{
  "nbformat": 4,
  "nbformat_minor": 0,
  "metadata": {
    "colab": {
      "provenance": [],
      "authorship_tag": "ABX9TyPfvkKeNWhb3WsXtCPQ+EQ2",
      "include_colab_link": true
    },
    "kernelspec": {
      "name": "python3",
      "display_name": "Python 3"
    },
    "language_info": {
      "name": "python"
    }
  },
  "cells": [
    {
      "cell_type": "markdown",
      "metadata": {
        "id": "view-in-github",
        "colab_type": "text"
      },
      "source": [
        "<a href=\"https://colab.research.google.com/github/MattJCR/PIA/blob/master/Curso_de_Python.ipynb\" target=\"_parent\"><img src=\"https://colab.research.google.com/assets/colab-badge.svg\" alt=\"Open In Colab\"/></a>"
      ]
    },
    {
      "cell_type": "markdown",
      "source": [
        "# Curso de PYTHON\n",
        "\n",
        "\n"
      ],
      "metadata": {
        "id": "ufU7kcYv5C58"
      }
    },
    {
      "cell_type": "markdown",
      "source": [
        "**Use of print**\n"
      ],
      "metadata": {
        "id": "SP3uCMbV8gup"
      }
    },
    {
      "cell_type": "code",
      "source": [
        "a = \"Hola\"\n",
        "b = \"mundo\""
      ],
      "metadata": {
        "id": "s27Gg4665oxj"
      },
      "execution_count": 9,
      "outputs": []
    },
    {
      "cell_type": "code",
      "execution_count": 10,
      "metadata": {
        "colab": {
          "base_uri": "https://localhost:8080/"
        },
        "id": "TljgFLlY4wr7",
        "outputId": "94ac25a0-753d-41e2-8105-b2977489289b"
      },
      "outputs": [
        {
          "output_type": "stream",
          "name": "stdout",
          "text": [
            "Hola mundo\n",
            "Holamundo\n",
            "Hola mundo\n"
          ]
        }
      ],
      "source": [
        "print(a,b)\n",
        "print(a+b)\n",
        "print(a + \" \" + b)"
      ]
    },
    {
      "cell_type": "markdown",
      "source": [
        "**Data Types and Variables**"
      ],
      "metadata": {
        "id": "_y5637Pi8oD-"
      }
    },
    {
      "cell_type": "markdown",
      "source": [
        "* Numbers\n"
      ],
      "metadata": {
        "id": "2g0U4bI49C_l"
      }
    },
    {
      "cell_type": "code",
      "source": [
        "# INTEGER\n",
        "print(10)  # A positive integer\n",
        "print(-3000)  # A negative integer\n",
        "\n",
        "num = 123456789  # Assigning an integer to a variable\n",
        "print(num)\n",
        "num = -16000  # Assigning a new integer\n",
        "print(num)\n",
        "\n",
        "# FLOAT\n",
        "print(1.00000000005)  # A positive float\n",
        "print(-85.6701)  # A negative float\n",
        "\n",
        "flt_pt = 1.23456789\n",
        "print(flt_pt)\n",
        "\n",
        "# COMPLEX\n",
        "# It requires two values. The first one will be the real \n",
        "# part of the complex number, while the second value will \n",
        "# be the imaginary part.\n",
        "print(complex(10, 20))  # Represents the complex number (10 + 20j)\n",
        "print(complex(2.5, -18.2))  # Represents the complex number (2.5 - 18.2j)\n",
        "\n",
        "complex_1 = complex(0, 2)\n",
        "complex_2 = complex(2, 0)\n",
        "print(complex_1)\n",
        "print(complex_2)"
      ],
      "metadata": {
        "id": "rDanGA3S8rJ7",
        "colab": {
          "base_uri": "https://localhost:8080/"
        },
        "outputId": "e012c1d3-87e6-4d8d-a799-345c9c5e98f5"
      },
      "execution_count": 11,
      "outputs": [
        {
          "output_type": "stream",
          "name": "stdout",
          "text": [
            "10\n",
            "-3000\n",
            "123456789\n",
            "-16000\n",
            "1.00000000005\n",
            "-85.6701\n",
            "1.23456789\n",
            "(10+20j)\n",
            "(2.5-18.2j)\n",
            "2j\n",
            "(2+0j)\n"
          ]
        }
      ]
    },
    {
      "cell_type": "markdown",
      "source": [
        "* Boolean"
      ],
      "metadata": {
        "id": "Dl_ZOOOR93F-"
      }
    },
    {
      "cell_type": "code",
      "source": [
        "print(True) # Represents the Boolean True value\n",
        "\n",
        "f_bool = False # Represents the Boolean False value\n",
        "print(f_bool)"
      ],
      "metadata": {
        "id": "OQcIVhp19_lo",
        "colab": {
          "base_uri": "https://localhost:8080/"
        },
        "outputId": "c09e1bb5-75dd-4c28-cc0c-4cc9903f366c"
      },
      "execution_count": 12,
      "outputs": [
        {
          "output_type": "stream",
          "name": "stdout",
          "text": [
            "True\n",
            "False\n"
          ]
        }
      ]
    },
    {
      "cell_type": "markdown",
      "source": [
        "* String\n",
        "\n",
        "\n"
      ],
      "metadata": {
        "id": "yAII-w2L-LuG"
      }
    },
    {
      "cell_type": "code",
      "source": [
        "# Simple string\n",
        "print(\"Harry Potter!\")  # Double quotation marks\n",
        "\n",
        "got = 'Game of Thrones...'  # Single quotation marks\n",
        "print(got)\n",
        "print(\"$\")  # Single character\n",
        "\n",
        "empty = \"\"\n",
        "print(empty)  # Just prints an empty line\n",
        "\n",
        "# To add a multi-line string we can use triple quotes.\n",
        "multiple_lines = '''Triple quotes allows\n",
        "multi-line string.'''\n",
        "print(multiple_lines)\n",
        "\n",
        "# Length of a String\n",
        "random_string = \"I am Batman\"  # 11 characters\n",
        "print(len(random_string))\n",
        "\n",
        "# Indexing and accesing characters\n",
        "batman = \"Bruce Wayne\"\n",
        "\n",
        "first = batman[0]  # Accessing the first character\n",
        "print(first)\n",
        "\n",
        "space = batman[5]  # Accessing the empty space in the string\n",
        "print(space)\n",
        "\n",
        "last = batman[len(batman) - 1]\n",
        "print(last)\n",
        "# The following will produce an error since the index is out of bounds\n",
        "# err = batman[len(batman)]\n",
        "\n",
        "# Reverse Indexing\n",
        "batman = \"Bruce Wayne\"\n",
        "print(batman[-1])  # Corresponds to batman[10]\n",
        "print(batman[-5])  # Corresponds to batman[6]\n",
        "\n",
        "# String immutability\n",
        "string = \"Immutability\"\n",
        "# string[0] = 'O' # Will give error\n",
        "# The above code gives TypeError because Python doesn’t \n",
        "# support item assignment in case of strings.\n",
        "\n",
        "str1 = \"hello\"\n",
        "print(id(str1))\n",
        "print(str1)\n",
        "str1 = \"bye\"\n",
        "print(id(str1))\n",
        "print(str1)\n",
        "# Remember, assigning a new value to string variable \n",
        "# doesn’t mean that you’ve changed the value.\n",
        "\n",
        "\n",
        "\n"
      ],
      "metadata": {
        "id": "rbzHMye2-Nsk",
        "colab": {
          "base_uri": "https://localhost:8080/"
        },
        "outputId": "a2bf7157-0d7b-434e-ba1d-aab3b834f54d"
      },
      "execution_count": 13,
      "outputs": [
        {
          "output_type": "stream",
          "name": "stdout",
          "text": [
            "Harry Potter!\n",
            "Game of Thrones...\n",
            "$\n",
            "\n",
            "Triple quotes allows\n",
            "multi-line string.\n",
            "11\n",
            "B\n",
            " \n",
            "e\n",
            "e\n",
            "W\n",
            "139795763672752\n",
            "hello\n",
            "139795695613104\n",
            "bye\n"
          ]
        }
      ]
    },
    {
      "cell_type": "markdown",
      "source": [
        "* NoneType"
      ],
      "metadata": {
        "id": "1WY7m4sqAm5j"
      }
    },
    {
      "cell_type": "code",
      "source": [
        "val = None\n",
        "print(val) # prints \"None\" and returns None\n",
        "print (type(val))\n",
        "# Important Points\n",
        "# None is not a default value for the variable that has not yet been assigned a value.\n",
        "# None is not the same as False.\n",
        "# None is not an empty string.\n",
        "# None is not 0."
      ],
      "metadata": {
        "id": "rh4FlTq5AphR",
        "colab": {
          "base_uri": "https://localhost:8080/"
        },
        "outputId": "b092a145-01a8-4f81-8f5b-18868bef1397"
      },
      "execution_count": 14,
      "outputs": [
        {
          "output_type": "stream",
          "name": "stdout",
          "text": [
            "None\n",
            "<class 'NoneType'>\n"
          ]
        }
      ]
    },
    {
      "cell_type": "markdown",
      "source": [
        "* String Slicing"
      ],
      "metadata": {
        "id": "y9oqf-ErBcSS"
      }
    },
    {
      "cell_type": "code",
      "source": [
        "# Slicing\n",
        "# Slicing is the process of obtaining a portion (substring) of a string by using its indices.\n",
        "my_string = \"This is MY string!\"\n",
        "print(my_string[0:4]) # From the start till before the 4th index\n",
        "print(my_string[1:7])\n",
        "print(my_string[8:len(my_string)]) # From the 8th index till the end\n",
        "\n",
        "# Slicing with a Step\n",
        "# slice a string by defining a step through which we can skip characters in the string.\n",
        "my_string = \"This is MY string!\"\n",
        "print(my_string[0:7])  # A step of 1\n",
        "print(my_string[0:7:2])  # A step of 2\n",
        "print(my_string[0:7:5])  # A step of 5\n",
        "\n",
        "# Reverse Slicing\n",
        "# Strings can also be sliced to return a reversed substring.\n",
        "my_string = \"This is MY string!\"\n",
        "print(my_string[13:2:-1]) # Take 1 step back each time\n",
        "print(my_string[17:0:-2]) # Take 2 steps back. The opposite of what happens in the slide above\n",
        "\n",
        "# Partial  Slicing\n",
        "# One thing to note is that specifying the start and end indices is optional.\n",
        "my_string = \"This is MY string!\"\n",
        "print(my_string[:8])  # All the characters before 'M'\n",
        "print(my_string[8:])  # All the characters starting from 'M'\n",
        "print(my_string[:])  # The whole string\n",
        "print(my_string[::-1])  # The whole string in reverse (step is -1)\n"
      ],
      "metadata": {
        "id": "uwO1LHbMBfk-",
        "colab": {
          "base_uri": "https://localhost:8080/"
        },
        "outputId": "e2d8d9c8-0612-44ce-eb27-ced976b7e53e"
      },
      "execution_count": 15,
      "outputs": [
        {
          "output_type": "stream",
          "name": "stdout",
          "text": [
            "This\n",
            "his is\n",
            "MY string!\n",
            "This is\n",
            "Ti s\n",
            "Ti\n",
            "rts YM si s\n",
            "!nrsY ish\n",
            "This is \n",
            "MY string!\n",
            "This is MY string!\n",
            "!gnirts YM si sihT\n"
          ]
        }
      ]
    },
    {
      "cell_type": "markdown",
      "source": [
        "* String Formatting"
      ],
      "metadata": {
        "id": "Qqm0SvKFDdof"
      }
    },
    {
      "cell_type": "code",
      "source": [
        "# Inserting String within a String\n",
        "string1 = \"I like %s\" % \"Python\"\n",
        "print(string1) # 'I like Python'\n",
        "\n",
        "temp = \"Educative\"\n",
        "string2 = \"I like %s\" % temp\n",
        "print(string2) # 'I like Educative'\n",
        "\n",
        "string3 = \"I like %s and %s\" % (\"Python\", temp)\n",
        "print(string3)  # 'I like Python and Educative'\n",
        "\n",
        "# Inserting Integers Within a String\n",
        "my_string = \"%i + %i = %i\" % (1,2,3)\n",
        "print(my_string) # '1 + 2 = 3'\n",
        "\n",
        "# Inserting Floats Within a String\n",
        "string1 = \"%f\" % (1.11)\n",
        "print(string1) # '1.110000'\n",
        "\n",
        "string2 = \"%.2f\" % (1.11) # 2f Round the number to two decimal\n",
        "print(string2) # '1.11'\n",
        "\n",
        "string3 = \"%.2f\" % (1.117)\n",
        "print(string3) # '1.12'"
      ],
      "metadata": {
        "id": "dceM-fV-Dhmx",
        "colab": {
          "base_uri": "https://localhost:8080/"
        },
        "outputId": "ec341b56-9d7e-45be-a6fa-2dfecf575cc1"
      },
      "execution_count": 16,
      "outputs": [
        {
          "output_type": "stream",
          "name": "stdout",
          "text": [
            "I like Python\n",
            "I like Educative\n",
            "I like Python and Educative\n",
            "1 + 2 = 3\n",
            "1.110000\n",
            "1.11\n",
            "1.12\n"
          ]
        }
      ]
    },
    {
      "cell_type": "markdown",
      "source": [
        "**Operators**"
      ],
      "metadata": {
        "id": "GVMm7E9wEXfj"
      }
    },
    {
      "cell_type": "markdown",
      "source": [
        "* Arithmetic Operators"
      ],
      "metadata": {
        "id": "9vt6RcnSEjvM"
      }
    },
    {
      "cell_type": "code",
      "source": [
        "# Addition \n",
        "print(10 + 5)\n",
        "\n",
        "# Subtraction \n",
        "print(10 - 5)\n",
        "\n",
        "# Multiplication \n",
        "print(40 * 10)\n",
        "\n",
        "# Division \n",
        "print(40 / 10)\n",
        "\n",
        "# Floor Division \n",
        "# The result is floored to the nearest smaller integer.\n",
        "print(43 // 10)\n",
        "print(5.5 // 4.5)\n",
        "print(12.4 // 2)\n",
        "\n",
        "# Modulo \n",
        "print(10 % 2)\n",
        "\n",
        "# Different precedence\n",
        "print(10 - 3 * 2)  # Multiplication computed first, followed by subtraction\n",
        "\n",
        "# Same precedence\n",
        "print(3 * 20 / 5)  # Multiplication computed first, followed by division\n",
        "print(3 / 20 * 5)  # Division computed first, followed by multiplication\n",
        "\n",
        "# Parentheses \n",
        "print((10 - 3) * 2)  # Subtraction occurs first\n",
        "\n"
      ],
      "metadata": {
        "id": "orD2bORUEZfR",
        "colab": {
          "base_uri": "https://localhost:8080/"
        },
        "outputId": "e21ee2ae-d7c2-4454-a778-a1b0fca91d57"
      },
      "execution_count": 17,
      "outputs": [
        {
          "output_type": "stream",
          "name": "stdout",
          "text": [
            "15\n",
            "5\n",
            "400\n",
            "4.0\n",
            "4\n",
            "1.0\n",
            "6.0\n",
            "0\n",
            "4\n",
            "12.0\n",
            "0.75\n",
            "14\n"
          ]
        }
      ]
    },
    {
      "cell_type": "markdown",
      "source": [
        "* Comparison Operators"
      ],
      "metadata": {
        "id": "gxLd3MK1FdS9"
      }
    },
    {
      "cell_type": "code",
      "source": [
        "num1 = 5\n",
        "num2 = 10\n",
        "num3 = 10\n",
        "list1 = [6,7,8]\n",
        "list2 = [6,7,8]\n",
        "\n",
        "print(num2 > num1)  # 10 is greater than 5\n",
        "print(num1 > num2)  # 5 is not greater than 10\n",
        "\n",
        "print(num2 == num3)  # Both have the same value\n",
        "print(num3 != num1)  # Both have different values\n",
        "\n",
        "print(3 + 10 == 5 + 5)  # Both are not equal\n",
        "print(3 <= 2)  # 3 is not less than or equal to 2\n",
        "\n",
        "print(num2 is not num3)  # Both have the same object\n",
        "print(list1 is list2)  # Both have the different objects"
      ],
      "metadata": {
        "id": "155C4I0YFksJ",
        "colab": {
          "base_uri": "https://localhost:8080/"
        },
        "outputId": "f9c8091a-5ab8-4fe9-ad2f-9a6e729bbbad"
      },
      "execution_count": 18,
      "outputs": [
        {
          "output_type": "stream",
          "name": "stdout",
          "text": [
            "True\n",
            "False\n",
            "True\n",
            "True\n",
            "False\n",
            "False\n",
            "False\n",
            "False\n"
          ]
        }
      ]
    },
    {
      "cell_type": "markdown",
      "source": [
        "* Assignment Operators"
      ],
      "metadata": {
        "id": "RMzY4vWqFuY6"
      }
    },
    {
      "cell_type": "code",
      "source": [
        "# Assigning Values\n",
        "year = 2019\n",
        "print(year)\n",
        "year = year + 1  # Using the existing value to create a new one\n",
        "print(year)\n",
        "num = 10\n",
        "print(num)\n",
        "\n",
        "# Add and Assign\n",
        "num += 5\n",
        "print(num)\n",
        "\n",
        "# Subtract and Assign\n",
        "num -= 5\n",
        "print(num)\n",
        "\n",
        "# Multiply and Assign\n",
        "num *= 2\n",
        "print(num)\n",
        "\n",
        "# Divide and Assign\n",
        "num /= 2\n",
        "print(num)\n",
        "\n",
        "# You can use the others operators\n"
      ],
      "metadata": {
        "id": "_i4mZK6jFwHR",
        "colab": {
          "base_uri": "https://localhost:8080/"
        },
        "outputId": "f335b7fa-bdfb-497f-9f52-1bbd860f3f96"
      },
      "execution_count": 19,
      "outputs": [
        {
          "output_type": "stream",
          "name": "stdout",
          "text": [
            "2019\n",
            "2020\n",
            "10\n",
            "15\n",
            "10\n",
            "20\n",
            "10.0\n"
          ]
        }
      ]
    },
    {
      "cell_type": "markdown",
      "source": [
        "* Logical Operators"
      ],
      "metadata": {
        "id": "vkHqJJXSGfYv"
      }
    },
    {
      "cell_type": "code",
      "source": [
        "# OR Expression\n",
        "my_bool = True or False\n",
        "print(my_bool)\n",
        "\n",
        "# AND Expression\n",
        "my_bool = True and False\n",
        "print(my_bool)\n",
        "\n",
        "# NOT expression\n",
        "my_bool = False\n",
        "print(not my_bool)\n",
        "\n",
        "# Bit Value\n",
        "# In bit terms, the value of True is 1. False corresponds to 0.\n",
        "print(10 * True) # 10\n",
        "print(10 * False) # 0"
      ],
      "metadata": {
        "id": "NVBR5Ml5Ggin",
        "colab": {
          "base_uri": "https://localhost:8080/"
        },
        "outputId": "d8cb2877-1d7a-4a33-c262-a07a58314d96"
      },
      "execution_count": 20,
      "outputs": [
        {
          "output_type": "stream",
          "name": "stdout",
          "text": [
            "True\n",
            "False\n",
            "True\n",
            "10\n",
            "0\n"
          ]
        }
      ]
    },
    {
      "cell_type": "markdown",
      "source": [
        "* Bitwise Operators"
      ],
      "metadata": {
        "id": "IqlIWytRG9qp"
      }
    },
    {
      "cell_type": "code",
      "source": [
        "num1 = 10  # Binary value = 01010\n",
        "num2 = 20  # Binary Value = 10100\n",
        "\n",
        "print(num1 & num2)   # 0   -> Binary value = 00000\n",
        "print(num1 | num2)   # 30  -> Binary value = 11110\n",
        "print(num1 ^ num2)   # 30  -> Binary value = 11110\n",
        "print(~num1)         # -11 -> Binary value = -(1011)\n",
        "print(num1 << 3)     # 80  -> Binary value = 0101 0000\n",
        "print(num2 >> 3)     # 2   -> Binary value = 0010"
      ],
      "metadata": {
        "id": "d88KS1tvHAPu",
        "colab": {
          "base_uri": "https://localhost:8080/"
        },
        "outputId": "e3f8061a-5390-4326-8d19-d504c6c6fd46"
      },
      "execution_count": 21,
      "outputs": [
        {
          "output_type": "stream",
          "name": "stdout",
          "text": [
            "0\n",
            "30\n",
            "30\n",
            "-11\n",
            "80\n",
            "2\n"
          ]
        }
      ]
    },
    {
      "cell_type": "markdown",
      "source": [
        "* String Operations"
      ],
      "metadata": {
        "id": "5Bz4qXTNHGC8"
      }
    },
    {
      "cell_type": "code",
      "source": [
        "# Comparison Operators\n",
        "print('a' < 'b')  # 'a' has a smaller Unicode value\n",
        "\n",
        "house = \"Gryffindor\"\n",
        "house_copy = \"Gryffindor\"\n",
        "\n",
        "print(house == house_copy)\n",
        "\n",
        "new_house = \"Slytherin\"\n",
        "\n",
        "print(house == new_house)\n",
        "\n",
        "print(new_house <= house)\n",
        "\n",
        "print(new_house >= house)\n",
        "\n",
        "# Concatenation \n",
        "first_half = \"Bat\"\n",
        "second_half = \"man\"\n",
        "\n",
        "full_name = first_half + second_half\n",
        "print(full_name)\n",
        "\n",
        "# The * operator allows us to multiply a string, resulting in a repeating pattern.\n",
        "print(\"ha\" * 3)\n",
        "\n",
        "#Search \n",
        "random_string = \"This is a random string\"\n",
        "\n",
        "print('of' in random_string)  # Check whether 'of' exists in randomString\n",
        "print('random' in random_string)  # 'random' exists!\n"
      ],
      "metadata": {
        "id": "3YoDnR7jHIQi",
        "colab": {
          "base_uri": "https://localhost:8080/"
        },
        "outputId": "7c2ce3a3-bf72-4270-8fa1-f94bcbf25ffb"
      },
      "execution_count": 22,
      "outputs": [
        {
          "output_type": "stream",
          "name": "stdout",
          "text": [
            "True\n",
            "True\n",
            "False\n",
            "False\n",
            "True\n",
            "Batman\n",
            "hahaha\n",
            "False\n",
            "True\n"
          ]
        }
      ]
    },
    {
      "cell_type": "markdown",
      "source": [
        "* Grouping Values"
      ],
      "metadata": {
        "id": "aakc-wSMHy8w"
      }
    },
    {
      "cell_type": "code",
      "source": [
        "# Making a List\n",
        "my_list = [1, 2.5, \"A string\", True]\n",
        "print(my_list)\n",
        "print(my_list[2]) # Get A String\n",
        "print(len(my_list)) # 4 elements"
      ],
      "metadata": {
        "id": "el4FlCJmH1Q9",
        "colab": {
          "base_uri": "https://localhost:8080/"
        },
        "outputId": "0ced3559-9328-4675-99e5-aa3c5ad136e2"
      },
      "execution_count": 23,
      "outputs": [
        {
          "output_type": "stream",
          "name": "stdout",
          "text": [
            "[1, 2.5, 'A string', True]\n",
            "A string\n",
            "4\n"
          ]
        }
      ]
    },
    {
      "cell_type": "markdown",
      "source": [
        "**Conditional Statements**"
      ],
      "metadata": {
        "id": "jjavVnoAWNZZ"
      }
    },
    {
      "cell_type": "markdown",
      "source": [
        "* If Statement"
      ],
      "metadata": {
        "id": "SK__GzqTX9Af"
      }
    },
    {
      "cell_type": "code",
      "source": [
        "# The Flow of an if Statement\n",
        "num = 5\n",
        "\n",
        "if (num == 5):  # The condition is true\n",
        "    print(\"The number is equal to 5\")  # The code is executed\n",
        "\n",
        "if num > 5:  # The condtion is false\n",
        "    print(\"The number is greater than 5\")  # The code is not executed\n",
        "\n",
        "# Conditions with Logical Operators\n",
        "num = 12\n",
        "\n",
        "if num % 2 == 0 and num % 3 == 0 and num % 4 == 0:\n",
        "    # Only works when num is a multiple of 2, 3, and 4\n",
        "    print(\"The number is a multiple of 2, 3, and 4\")\n",
        "\n",
        "if (num % 5 == 0 or num % 6 == 0):\n",
        "    # Only works when num is either a multiple of 5 or 6\n",
        "    print(\"The number is a multiple of 5 and/or 6\")\n",
        "\n",
        "# Nested if Statements\n",
        "num = 63\n",
        "\n",
        "if num >= 0 and num <= 100:\n",
        "    if num >= 50 and num <= 75:\n",
        "        if num >= 60 and num <= 70:\n",
        "            print(\"The number is in the 60-70 range\")\n",
        "\n",
        "\n"
      ],
      "metadata": {
        "id": "HbQnngg0WU8n",
        "colab": {
          "base_uri": "https://localhost:8080/"
        },
        "outputId": "d9ede275-f546-499c-8323-30df5667a754"
      },
      "execution_count": 24,
      "outputs": [
        {
          "output_type": "stream",
          "name": "stdout",
          "text": [
            "The number is equal to 5\n",
            "The number is a multiple of 2, 3, and 4\n",
            "The number is a multiple of 5 and/or 6\n",
            "The number is in the 60-70 range\n"
          ]
        }
      ]
    },
    {
      "cell_type": "markdown",
      "source": [
        "* The if-else Statement"
      ],
      "metadata": {
        "id": "nTkYCaeIYbJF"
      }
    },
    {
      "cell_type": "code",
      "source": [
        "num = 60\n",
        "\n",
        "if num <= 50:\n",
        "    print(\"The number is less than or equal to 50\")\n",
        "else:\n",
        "    print(\"The number is greater than 50\")\n"
      ],
      "metadata": {
        "id": "Kq8Id-dSYcly",
        "colab": {
          "base_uri": "https://localhost:8080/"
        },
        "outputId": "3505f6b7-c27a-4c57-a093-501d800490e2"
      },
      "execution_count": 25,
      "outputs": [
        {
          "output_type": "stream",
          "name": "stdout",
          "text": [
            "The number is greater than 50\n"
          ]
        }
      ]
    },
    {
      "cell_type": "markdown",
      "source": [
        "* The if-elif-else Statement"
      ],
      "metadata": {
        "id": "mKVHNAb-ZcVv"
      }
    },
    {
      "cell_type": "code",
      "source": [
        "light = \"Red\"\n",
        "\n",
        "if light == \"Green\":\n",
        "    print(\"Go\")\n",
        "\n",
        "elif light == \"Yellow\":\n",
        "    print(\"Caution\")\n",
        "\n",
        "elif light == \"Red\":\n",
        "    print(\"Stop\")\n",
        "\n",
        "else:\n",
        "    print(\"Incorrect light signal\")"
      ],
      "metadata": {
        "id": "YaoHgJduZded",
        "colab": {
          "base_uri": "https://localhost:8080/"
        },
        "outputId": "471c0d0c-6f5f-4b4a-9779-72d04735fc3c"
      },
      "execution_count": 26,
      "outputs": [
        {
          "output_type": "stream",
          "name": "stdout",
          "text": [
            "Stop\n"
          ]
        }
      ]
    },
    {
      "cell_type": "markdown",
      "source": [
        "**Functions**"
      ],
      "metadata": {
        "id": "ADtoxoVybaAS"
      }
    },
    {
      "cell_type": "markdown",
      "source": [
        "* Function Creation"
      ],
      "metadata": {
        "id": "tM58DM4wchi0"
      }
    },
    {
      "cell_type": "code",
      "source": [
        "# Funtion without Parameters\n",
        "def my_print_function():  # No parameters\n",
        "    print(\"This\")\n",
        "    print(\"is\")\n",
        "    print(\"A\")\n",
        "    print(\"function\")\n",
        "# Function ended\n",
        "\n",
        "\n",
        "my_print_function() # Calling the function in the program multiple times\n",
        "my_print_function()\n",
        "\n",
        "# Function Parameters\n",
        "def minimum(first, second):\n",
        "    if (first < second):\n",
        "        print(first)\n",
        "    else:\n",
        "        print(second)\n",
        "\n",
        "\n",
        "num1 = 10\n",
        "num2 = 20\n",
        "\n",
        "\n",
        "minimum(num1, num2) # Calling the function with parameters\n",
        "\n",
        "# The return Statement\n",
        "def minimum(first, second):\n",
        "    if (first < second):\n",
        "        return first\n",
        "    return second\n",
        "\n",
        "num1 = 10\n",
        "num2 = 20\n",
        "\n",
        "result = minimum(num1, num2)  # Storing the value returned by the function\n",
        "print(result)"
      ],
      "metadata": {
        "id": "rfB5p1jSbr-e",
        "colab": {
          "base_uri": "https://localhost:8080/"
        },
        "outputId": "951fccbc-b273-449f-9e10-91cf6e5122f1"
      },
      "execution_count": 27,
      "outputs": [
        {
          "output_type": "stream",
          "name": "stdout",
          "text": [
            "This\n",
            "is\n",
            "A\n",
            "function\n",
            "This\n",
            "is\n",
            "A\n",
            "function\n",
            "10\n",
            "10\n"
          ]
        }
      ]
    },
    {
      "cell_type": "markdown",
      "source": [
        "* Function Scope\n"
      ],
      "metadata": {
        "id": "-awcjV6-fL-H"
      }
    },
    {
      "cell_type": "code",
      "source": [
        "# Data Lifecycle\n",
        "name = \"Ned\"\n",
        "\n",
        "def func():\n",
        "    name = \"Stark\"\n",
        "\n",
        "func()\n",
        "print(name)  # The value of 'name' remains unchanged.\n"
      ],
      "metadata": {
        "colab": {
          "base_uri": "https://localhost:8080/"
        },
        "id": "iNgJgNxnfNp-",
        "outputId": "7c3022e9-2188-4bca-82fe-53242217fc1e"
      },
      "execution_count": 28,
      "outputs": [
        {
          "output_type": "stream",
          "name": "stdout",
          "text": [
            "Ned\n"
          ]
        }
      ]
    },
    {
      "cell_type": "markdown",
      "source": [
        "* Altering Data"
      ],
      "metadata": {
        "id": "UmJkM_gU475p"
      }
    },
    {
      "cell_type": "code",
      "source": [
        "num_list = [10, 20, 30, 40]\n",
        "print(num_list)\n",
        "\n",
        "\n",
        "def multiply_by_10(my_list):\n",
        "    my_list[0] *= 10\n",
        "    my_list[1] *= 10\n",
        "    my_list[2] *= 10\n",
        "    my_list[3] *= 10\n",
        "\n",
        "\n",
        "multiply_by_10(num_list)\n",
        "print(num_list)  # The contents of the list have been changed\n"
      ],
      "metadata": {
        "id": "DW0qYnFG4_yv",
        "colab": {
          "base_uri": "https://localhost:8080/"
        },
        "outputId": "bbebf623-610b-4f5d-da5d-36d3c4c91bbb"
      },
      "execution_count": 29,
      "outputs": [
        {
          "output_type": "stream",
          "name": "stdout",
          "text": [
            "[10, 20, 30, 40]\n",
            "[100, 200, 300, 400]\n"
          ]
        }
      ]
    },
    {
      "cell_type": "markdown",
      "source": [
        "* Strings.Find"
      ],
      "metadata": {
        "id": "vicQBwtk5OGk"
      }
    },
    {
      "cell_type": "markdown",
      "source": [
        "\n",
        "\n",
        "\n",
        "\n"
      ],
      "metadata": {
        "id": "qPIVKrsZ5V_x"
      }
    },
    {
      "cell_type": "code",
      "source": [
        "random_string = \"This is a string\"\n",
        "print(random_string.find(\"is\"))  # First instance of 'is' occurs at index 2\n",
        "print(random_string.find(\"is\", 9, 13))  # No instance of 'is' in this range\n"
      ],
      "metadata": {
        "id": "-vX1jmeV5hFv",
        "colab": {
          "base_uri": "https://localhost:8080/"
        },
        "outputId": "81b8feaf-b46a-475e-87be-fd0491f72ccf"
      },
      "execution_count": 30,
      "outputs": [
        {
          "output_type": "stream",
          "name": "stdout",
          "text": [
            "2\n",
            "-1\n"
          ]
        }
      ]
    },
    {
      "cell_type": "markdown",
      "source": [
        "* Strings.Replace"
      ],
      "metadata": {
        "id": "9AX_-vnj5sQ9"
      }
    },
    {
      "cell_type": "code",
      "source": [
        "a_string = \"Welcome to Educative!\"\n",
        "new_string = a_string.replace(\"Welcome to\", \"Greetings from\")\n",
        "print(a_string)\n",
        "print(new_string)"
      ],
      "metadata": {
        "id": "INu_PXaJ5xy2",
        "colab": {
          "base_uri": "https://localhost:8080/"
        },
        "outputId": "0852e8cb-52ee-4d28-ffb5-664e97c4f740"
      },
      "execution_count": 31,
      "outputs": [
        {
          "output_type": "stream",
          "name": "stdout",
          "text": [
            "Welcome to Educative!\n",
            "Greetings from Educative!\n"
          ]
        }
      ]
    },
    {
      "cell_type": "markdown",
      "source": [
        "* Changing the Letter Case"
      ],
      "metadata": {
        "id": "6nKjWSix587c"
      }
    },
    {
      "cell_type": "code",
      "source": [
        "print(\"UpperCase\".upper())\n",
        "print(\"LowerCase\".lower())"
      ],
      "metadata": {
        "id": "YJs8iHT-6Avu",
        "colab": {
          "base_uri": "https://localhost:8080/"
        },
        "outputId": "b320e3ed-8b29-42d8-8ca4-c99e6d42013f"
      },
      "execution_count": 32,
      "outputs": [
        {
          "output_type": "stream",
          "name": "stdout",
          "text": [
            "UPPERCASE\n",
            "lowercase\n"
          ]
        }
      ]
    },
    {
      "cell_type": "markdown",
      "source": [
        "* Joining strings"
      ],
      "metadata": {
        "id": "Fmu47oXw6F7G"
      }
    },
    {
      "cell_type": "code",
      "source": [
        "llist = ['a', 'b', 'c']\n",
        "print('>>'.join(llist)) # joining strings with >>\n",
        "print('<<'.join(llist)) # joining strings with <<\n",
        "print(', '.join(llist)) # joining strings with comma and space"
      ],
      "metadata": {
        "id": "tLMclK_f6IlL",
        "colab": {
          "base_uri": "https://localhost:8080/"
        },
        "outputId": "771d4eb9-3ac4-4500-cc47-a7ed2f8088c6"
      },
      "execution_count": 33,
      "outputs": [
        {
          "output_type": "stream",
          "name": "stdout",
          "text": [
            "a>>b>>c\n",
            "a<<b<<c\n",
            "a, b, c\n"
          ]
        }
      ]
    },
    {
      "cell_type": "markdown",
      "source": [
        "* Formatting"
      ],
      "metadata": {
        "id": "Znd5aCfM6OaS"
      }
    },
    {
      "cell_type": "code",
      "source": [
        "string1 = \"Learn Python {version} at {cname}\".format(version = 3, cname = \"Educative\")\n",
        "string2 = \"Learn Python {0} at {1}\".format(3, \"Educative\")\n",
        "string3 = \"Learn Python {} at {}\".format(3, \"Educative\")\n",
        "\n",
        "print(string1)\n",
        "print(string2)\n",
        "print(string3)"
      ],
      "metadata": {
        "id": "0KYVWKHS6QNg",
        "colab": {
          "base_uri": "https://localhost:8080/"
        },
        "outputId": "abaa886b-9dd1-4da8-966c-15469f2b3770"
      },
      "execution_count": 34,
      "outputs": [
        {
          "output_type": "stream",
          "name": "stdout",
          "text": [
            "Learn Python 3 at Educative\n",
            "Learn Python 3 at Educative\n",
            "Learn Python 3 at Educative\n"
          ]
        }
      ]
    },
    {
      "cell_type": "markdown",
      "source": [
        "* Type Conversions"
      ],
      "metadata": {
        "id": "hzK6dz-d6dN6"
      }
    },
    {
      "cell_type": "code",
      "source": [
        "# int\n",
        "print(int(\"12\") * 10)  # String to integer\n",
        "print(int(20.5))  # Float to integer\n",
        "print(int(False))  # Bool to integer\n",
        "# print (int(\"Hello\")) # This wouldn't work!\n",
        "\n",
        "# ord\n",
        "# Convert a character to its Unicode value\n",
        "print(ord('a'))\n",
        "print(ord('0'))\n",
        "\n",
        "# float\n",
        "print(float(24))\n",
        "print(float('24.5'))\n",
        "print(float(True))\n",
        "\n",
        "# str\n",
        "print(str(12) + '.345')\n",
        "print(str(False))\n",
        "print(str(12.345) + ' is a string')\n",
        "\n",
        "# bool\n",
        "print(bool(10)) # True\n",
        "print(bool(0.0)) # False\n",
        "print(bool(\"Hello\")) # True\n",
        "print(bool(\"\")) # False"
      ],
      "metadata": {
        "id": "80KrilzF6f-m",
        "colab": {
          "base_uri": "https://localhost:8080/"
        },
        "outputId": "73424b7e-792d-40be-9106-21e4ac2abec1"
      },
      "execution_count": 35,
      "outputs": [
        {
          "output_type": "stream",
          "name": "stdout",
          "text": [
            "120\n",
            "20\n",
            "0\n",
            "97\n",
            "48\n",
            "24.0\n",
            "24.5\n",
            "1.0\n",
            "12.345\n",
            "False\n",
            "12.345 is a string\n",
            "True\n",
            "False\n",
            "True\n",
            "False\n"
          ]
        }
      ]
    },
    {
      "cell_type": "markdown",
      "source": [
        "* Input From the User"
      ],
      "metadata": {
        "id": "cw3qB6YE7JyJ"
      }
    },
    {
      "cell_type": "code",
      "source": [
        "name = input(\"What is your name? \")\n",
        "print(\"\\nHello,\", name)"
      ],
      "metadata": {
        "colab": {
          "base_uri": "https://localhost:8080/"
        },
        "id": "xJU9dMvs7K-n",
        "outputId": "9f8e072e-aac3-4e56-c0af-575cbeb8ecd1"
      },
      "execution_count": 36,
      "outputs": [
        {
          "output_type": "stream",
          "name": "stdout",
          "text": [
            "What is your name? Mateo\n",
            "\n",
            "Hello, Mateo\n"
          ]
        }
      ]
    },
    {
      "cell_type": "markdown",
      "source": [
        "* Lambdas"
      ],
      "metadata": {
        "id": "M2FnmvX47TSp"
      }
    },
    {
      "cell_type": "code",
      "source": [
        "# A lambda is an anonymous function that returns some form of data\n",
        "\n",
        "triple = lambda num : num * 3  # Assigning the lambda to a variable\n",
        "print(triple(10))  # Calling the lambda and giving it a parameter\n",
        "\n",
        "concat_strings = lambda a, b, c: a[0] + b[0] + c[0]\n",
        "print(concat_strings(\"World\", \"Wide\", \"Web\"))\n",
        "\n",
        "my_func = lambda num: \"High\" if num > 50 else \"Low\"\n",
        "print(my_func(60))\n"
      ],
      "metadata": {
        "id": "kSTNPhqb7USh",
        "colab": {
          "base_uri": "https://localhost:8080/"
        },
        "outputId": "66f8da5b-8657-4049-fcce-5bbd1399607f"
      },
      "execution_count": 37,
      "outputs": [
        {
          "output_type": "stream",
          "name": "stdout",
          "text": [
            "30\n",
            "WWW\n",
            "High\n"
          ]
        }
      ]
    },
    {
      "cell_type": "markdown",
      "source": [
        "* Functions as Arguments"
      ],
      "metadata": {
        "id": "SoQqq2aX7sX6"
      }
    },
    {
      "cell_type": "code",
      "source": [
        "# Using Simple Functions\n",
        "def add(n1, n2):\n",
        "    return n1 + n2\n",
        "\n",
        "def subtract(n1, n2):\n",
        "    return n1 - n2\n",
        "\n",
        "def multiply(n1, n2):\n",
        "    return n1 * n2\n",
        "\n",
        "def divide(n1, n2):\n",
        "    return n1 / n2\n",
        "\n",
        "def calculator(operation, n1, n2):\n",
        "    return operation(n1, n2)  # Using the 'operation' argument as a function\n",
        "\n",
        "result = calculator(multiply, 10, 20)\n",
        "print(result)\n",
        "print(calculator(add, 10, 20))\n",
        "\n",
        "# Using Lambdas\n",
        "def calculator(operation, n1, n2):\n",
        "    return operation(n1, n2)  # Using the 'operation' argument as a function\n",
        "\n",
        "# 10 and 20 are the arguments.\n",
        "result = calculator(lambda n1, n2: n1 * n2, 10, 20)\n",
        "# The lambda multiplies them.\n",
        "print(result)\n",
        "print(calculator(lambda n1, n2: n1 + n2, 10, 20))\n",
        "\n",
        "# map() to double the values of an existing list\n",
        "num_list = [0, 1, 2, 3, 4, 5]\n",
        "double_list = map(lambda n: n * 2, num_list)\n",
        "print(list(double_list))\n",
        "\n",
        "# filter() filters elements from a list if the elements satisfy the condition that is specified in the argument function\n",
        "numList = [30, 2, -15, 17, 9, 100]\n",
        "greater_than_10 = list(filter(lambda n: n > 10, numList))\n",
        "print(greater_than_10)\n",
        "\n"
      ],
      "metadata": {
        "colab": {
          "base_uri": "https://localhost:8080/"
        },
        "id": "ezPce1df7tOX",
        "outputId": "11063c10-fa27-4bbb-f8e9-2bf4b2e4922f"
      },
      "execution_count": 38,
      "outputs": [
        {
          "output_type": "stream",
          "name": "stdout",
          "text": [
            "200\n",
            "30\n",
            "200\n",
            "30\n",
            "[0, 2, 4, 6, 8, 10]\n",
            "[30, 17, 100]\n"
          ]
        }
      ]
    },
    {
      "cell_type": "markdown",
      "source": [
        "* Recursion"
      ],
      "metadata": {
        "id": "BG79hGr_8yWI"
      }
    },
    {
      "cell_type": "code",
      "source": [
        "# A function which decrements a number recursively until the number becomes 0\n",
        "def rec_count(number):\n",
        "    print(number)\n",
        "    # Base case\n",
        "    if number == 0:\n",
        "        return 0\n",
        "    rec_count(number - 1)  # A recursive call with a different argument\n",
        "    print(number)\n",
        "\n",
        "rec_count(5)\n",
        "\n",
        "# The Fibonacci sequence\n",
        "def fib(n):\n",
        "    # The base cases\n",
        "    if n <= 1:  # First number in the sequence\n",
        "        return 0\n",
        "    elif n == 2:  # Second number in the sequence\n",
        "        return 1\n",
        "    else:\n",
        "        # Recursive call\n",
        "        return fib(n - 1) + fib(n - 2)\n",
        "\n",
        "print(fib(6))"
      ],
      "metadata": {
        "id": "UflNOs3s80G_",
        "colab": {
          "base_uri": "https://localhost:8080/"
        },
        "outputId": "7f14fc4a-7c84-46f9-ec33-37a6344c7881"
      },
      "execution_count": 39,
      "outputs": [
        {
          "output_type": "stream",
          "name": "stdout",
          "text": [
            "5\n",
            "4\n",
            "3\n",
            "2\n",
            "1\n",
            "0\n",
            "1\n",
            "2\n",
            "3\n",
            "4\n",
            "5\n",
            "5\n"
          ]
        }
      ]
    },
    {
      "cell_type": "markdown",
      "source": [
        "**Loops**"
      ],
      "metadata": {
        "id": "pXlbOK_I-QI6"
      }
    },
    {
      "cell_type": "markdown",
      "source": [
        "* The for Loop"
      ],
      "metadata": {
        "id": "B-_V9Jlc-Xys"
      }
    },
    {
      "cell_type": "code",
      "source": [
        "for i in range(1, 11):  # A sequence from 1 to 10\n",
        "    if i % 2 == 0:\n",
        "        print(i, \" is even\")\n",
        "    else:\n",
        "        print(i, \" is odd\")\n",
        "\n",
        "for i in range(1, 11, 3):  # A sequence from 1 to 10 with a step of 3\n",
        "    print(i)\n",
        "\n",
        "# Looping Through a List/String\n",
        "float_list = [2.5, 16.42, 10.77, 8.3, 34.21]\n",
        "print(float_list)\n",
        "for i in range(0, len(float_list)):  # Iterator traverses to the last index of the list\n",
        "    float_list[i] = float_list[i] * 2\n",
        "print(float_list)"
      ],
      "metadata": {
        "id": "zD79itgd-Y27",
        "colab": {
          "base_uri": "https://localhost:8080/"
        },
        "outputId": "c5d6dc27-f768-4b33-82ab-cb9973e1912d"
      },
      "execution_count": 40,
      "outputs": [
        {
          "output_type": "stream",
          "name": "stdout",
          "text": [
            "1  is odd\n",
            "2  is even\n",
            "3  is odd\n",
            "4  is even\n",
            "5  is odd\n",
            "6  is even\n",
            "7  is odd\n",
            "8  is even\n",
            "9  is odd\n",
            "10  is even\n",
            "1\n",
            "4\n",
            "7\n",
            "10\n",
            "[2.5, 16.42, 10.77, 8.3, 34.21]\n",
            "[5.0, 32.84, 21.54, 16.6, 68.42]\n"
          ]
        }
      ]
    },
    {
      "cell_type": "markdown",
      "source": [
        "* Nested Loops"
      ],
      "metadata": {
        "id": "weSV1rTg-wOZ"
      }
    },
    {
      "cell_type": "code",
      "source": [
        "n = 50\n",
        "num_list = [10, 25, 4, 23, 6, 18, 27, 47]\n",
        "\n",
        "# The simplest way would be to compare every element with the rest of the list\n",
        "for n1 in num_list:\n",
        "    for n2 in num_list:  # Now we have two iterators\n",
        "        if(n1 != n2):\n",
        "            if(n1 + n2 == n):\n",
        "                print(n1, n2)"
      ],
      "metadata": {
        "id": "XdZSmVv0-xY4",
        "colab": {
          "base_uri": "https://localhost:8080/"
        },
        "outputId": "729dcada-ccd7-4796-f723-c476d902d803"
      },
      "execution_count": 41,
      "outputs": [
        {
          "output_type": "stream",
          "name": "stdout",
          "text": [
            "23 27\n",
            "27 23\n"
          ]
        }
      ]
    },
    {
      "cell_type": "markdown",
      "source": [
        "* The break Keyword"
      ],
      "metadata": {
        "id": "8xJt1ZNT_BLm"
      }
    },
    {
      "cell_type": "code",
      "source": [
        "n = 50\n",
        "num_list = [10, 25, 4, 23, 6, 18, 27, 47]\n",
        "found = False  # This bool will become true once a pair is found\n",
        "\n",
        "for n1 in num_list:\n",
        "    for n2 in num_list:\n",
        "        if(n1 != n2):\n",
        "            if(n1 + n2 == n):\n",
        "                found = True  # Set found to True\n",
        "                break  # Break inner loop if a pair is found\n",
        "    if found:\n",
        "        print(n1, n2) # Print the pair\n",
        "        break  # Break outer loop if a pair is found"
      ],
      "metadata": {
        "id": "RNa9zdJC_GTP",
        "colab": {
          "base_uri": "https://localhost:8080/"
        },
        "outputId": "ca44b621-6fae-4ffe-c125-1090d1c2a08f"
      },
      "execution_count": 42,
      "outputs": [
        {
          "output_type": "stream",
          "name": "stdout",
          "text": [
            "23 27\n"
          ]
        }
      ]
    },
    {
      "cell_type": "markdown",
      "source": [
        "* The continue Keyword"
      ],
      "metadata": {
        "id": "rkZ_rNgK_Ib0"
      }
    },
    {
      "cell_type": "code",
      "source": [
        "num_list = list(range(0, 10))\n",
        "# When the continue keyword is used, the rest of that particular iteration is skipped\n",
        "for num in num_list:\n",
        "    if num == 3 or num == 6 or num == 8:\n",
        "        continue\n",
        "    print(num)"
      ],
      "metadata": {
        "id": "9AE8yGk4_LUI",
        "colab": {
          "base_uri": "https://localhost:8080/"
        },
        "outputId": "80dd6663-3244-4e6f-fdf6-46b2d479a85e"
      },
      "execution_count": 43,
      "outputs": [
        {
          "output_type": "stream",
          "name": "stdout",
          "text": [
            "0\n",
            "1\n",
            "2\n",
            "4\n",
            "5\n",
            "7\n",
            "9\n"
          ]
        }
      ]
    },
    {
      "cell_type": "markdown",
      "source": [
        "* The pass Keyword"
      ],
      "metadata": {
        "id": "5EzH9n8G_RuW"
      }
    },
    {
      "cell_type": "code",
      "source": [
        "num_list = list(range(20))\n",
        "# In all practical meaning, the pass statement does nothing to the code execution\n",
        "for num in num_list:\n",
        "    pass # You can write code here later on\n",
        "\n",
        "print(len(num_list)) "
      ],
      "metadata": {
        "id": "JIEaPFEf_SpP",
        "colab": {
          "base_uri": "https://localhost:8080/"
        },
        "outputId": "fcc348ca-c07b-42e4-c6fc-e785af1e69d8"
      },
      "execution_count": 44,
      "outputs": [
        {
          "output_type": "stream",
          "name": "stdout",
          "text": [
            "20\n"
          ]
        }
      ]
    },
    {
      "cell_type": "markdown",
      "source": [
        "* The while Loop"
      ],
      "metadata": {
        "id": "DcjR5S_I_jQ7"
      }
    },
    {
      "cell_type": "code",
      "source": [
        "n = 2  # Could be any number\n",
        "power = 0\n",
        "val = n\n",
        "# Finds out the maximum power of n before the value exceeds 1000\n",
        "while val < 1000:\n",
        "    power += 1\n",
        "    val *= n\n",
        "print(power)\n",
        "\n",
        "# The following loop computes the sum of the first and the last digits of any integer\n",
        "n = 249\n",
        "last = n % 10  # Finding the last number is easy\n",
        "first = n  # Set it to `n` initially\n",
        "while first >= 10:\n",
        "    first //= 10  # Keep dividing by 10 until the leftmost digit is reached.\n",
        "\n",
        "result = first + last\n",
        "print(result)"
      ],
      "metadata": {
        "id": "q-7vU6op_lD3",
        "colab": {
          "base_uri": "https://localhost:8080/"
        },
        "outputId": "caa9d5e2-e54a-471d-9745-47221b2596b3"
      },
      "execution_count": 45,
      "outputs": [
        {
          "output_type": "stream",
          "name": "stdout",
          "text": [
            "9\n",
            "11\n"
          ]
        }
      ]
    },
    {
      "cell_type": "markdown",
      "source": [
        "**Data Structures**"
      ],
      "metadata": {
        "id": "c7AuAtm5HK-g"
      }
    },
    {
      "cell_type": "markdown",
      "source": [
        "* Lists"
      ],
      "metadata": {
        "id": "8d3-MjRgHaDZ"
      }
    },
    {
      "cell_type": "code",
      "source": [
        "jon_snow = [\"Jon Snow\", \"Winterfell\", 30]\n",
        "print(jon_snow)\n",
        "\n",
        "# Indexing\n",
        "print(jon_snow[0])\n",
        "\n",
        "# Length\n",
        "print(len(jon_snow))\n",
        "\n",
        "# Here’s an example of a range being used to create a list of numbers\n",
        "num_seq = range(0, 10)  # A sequence from 0 to 9\n",
        "num_list = list(num_seq)  # The list() method casts the sequence into a list\n",
        "print(num_list)\n",
        "num_seq = range(3, 20, 3)  # A sequence from 3 to 19 with a step of 3\n",
        "print(list(num_seq))\n",
        "\n",
        "# Here’s an example of lists inside another list.\n",
        "world_cup_winners = [[2006, \"Italy\"], [2010, \"Spain\"],\n",
        "                     [2014, \"Germany\"], [2018, \"France\"]]\n",
        "print(world_cup_winners)\n",
        "\n",
        "# Sequential Indexing\n",
        "world_cup_winners = [[2006, \"Italy\"], [2010, \"Spain\"],\n",
        "                     [2014, \"Germany\"], [2018, \"France\"]]\n",
        "print(world_cup_winners[1])\n",
        "print(world_cup_winners[1][1])  # Accessing 'Spain'\n",
        "print(world_cup_winners[1][1][0])  # Accessing 'S'\n",
        "\n",
        "# Merging Lists\n",
        "part_A = [1, 2, 3, 4, 5]\n",
        "part_B = [6, 7, 8, 9, 10]\n",
        "merged_list = part_A + part_B\n",
        "print(merged_list)\n",
        "\n",
        "part_A = [1, 2, 3, 4, 5]\n",
        "part_B = [6, 7, 8, 9, 10]\n",
        "part_A.extend(part_B)\n",
        "print(part_A)\n",
        "\n",
        "# Adding Elements\n",
        "num_list = []  # Empty list\n",
        "num_list.append(1)\n",
        "num_list.append(2)\n",
        "num_list.append(3)\n",
        "print(num_list)\n",
        "\n",
        "# Insert\n",
        "num_list = [1, 2, 3, 5, 6]\n",
        "num_list.insert(3, 4)  # Inserting 4 at the 3rd index. 5 and 6 shifted ahead\n",
        "print(num_list)\n",
        "\n",
        "# Removing\n",
        "houses = [\"Gryffindor\", \"Hufflepuff\", \"Ravenclaw\", \"Slytherin\"]\n",
        "last_house = houses.pop()\n",
        "print(last_house)\n",
        "print(houses)\n",
        "\n",
        "# List Slicing\n",
        "num_list = [1, 2, 3, 4, 5, 6, 7, 8]\n",
        "print(num_list[2:5])\n",
        "print(num_list[0::2])\n",
        "\n",
        "# Index Search\n",
        "cities = [\"London\", \"Paris\", \"Los Angeles\", \"Beirut\"]\n",
        "print(cities.index(\"Los Angeles\"))  # It is at the 2nd index\n",
        "\n",
        "cities = [\"London\", \"Paris\", \"Los Angeles\", \"Beirut\"]\n",
        "print(\"London\" in cities)\n",
        "print(\"Moscow\" not in cities)\n",
        "\n",
        "# List Sort\n",
        "num_list = [20, 40, 10, 50.4, 30, 100, 5]\n",
        "num_list.sort()\n",
        "print(num_list)\n",
        "\n",
        "# List comprehension\n",
        "nums = [10, 20, 30, 40, 50]\n",
        "nums_double = [n * 2 for n in nums if n % 4 == 0]\n",
        "print(nums)\n",
        "print(nums_double)\n",
        "\n",
        "# Multiple List\n",
        "list1 = [30, 50, 110, 40, 15, 75]\n",
        "list2 = [10, 60, 20, 50]\n",
        "\n",
        "sum_list = [(n1, n2) for n1 in list1 for n2 in list2 if n1 + n2 > 100]\n",
        "\n",
        "print(sum_list)"
      ],
      "metadata": {
        "id": "mWlBBAJ7HclU",
        "colab": {
          "base_uri": "https://localhost:8080/"
        },
        "outputId": "8ddb0404-d410-4ac3-98d6-5c2b57f09cac"
      },
      "execution_count": 46,
      "outputs": [
        {
          "output_type": "stream",
          "name": "stdout",
          "text": [
            "['Jon Snow', 'Winterfell', 30]\n",
            "Jon Snow\n",
            "3\n",
            "[0, 1, 2, 3, 4, 5, 6, 7, 8, 9]\n",
            "[3, 6, 9, 12, 15, 18]\n",
            "[[2006, 'Italy'], [2010, 'Spain'], [2014, 'Germany'], [2018, 'France']]\n",
            "[2010, 'Spain']\n",
            "Spain\n",
            "S\n",
            "[1, 2, 3, 4, 5, 6, 7, 8, 9, 10]\n",
            "[1, 2, 3, 4, 5, 6, 7, 8, 9, 10]\n",
            "[1, 2, 3]\n",
            "[1, 2, 3, 4, 5, 6]\n",
            "Slytherin\n",
            "['Gryffindor', 'Hufflepuff', 'Ravenclaw']\n",
            "[3, 4, 5]\n",
            "[1, 3, 5, 7]\n",
            "2\n",
            "True\n",
            "True\n",
            "[5, 10, 20, 30, 40, 50.4, 100]\n",
            "[10, 20, 30, 40, 50]\n",
            "[40, 80]\n",
            "[(50, 60), (110, 10), (110, 60), (110, 20), (110, 50), (75, 60), (75, 50)]\n"
          ]
        }
      ]
    },
    {
      "cell_type": "markdown",
      "source": [
        "* Tuple "
      ],
      "metadata": {
        "id": "U5ohioq2IuKi"
      }
    },
    {
      "cell_type": "code",
      "source": [
        "car = (\"Ford\", \"Raptor\", 2019, \"Red\")\n",
        "print(car)\n",
        "\n",
        "# Length\n",
        "print(len(car))\n",
        "\n",
        "# Indexing\n",
        "print(car[1])\n",
        "\n",
        "# Slicing\n",
        "print(car[2:])\n",
        "\n",
        "# Merging Tuples\n",
        "hero1 = (\"Batman\", \"Bruce Wayne\")\n",
        "hero2 = (\"Wonder Woman\", \"Diana Prince\")\n",
        "awesome_team = hero1 + hero2\n",
        "print(awesome_team)\n",
        "\n",
        "# Nested Tuples\n",
        "hero1 = (\"Batman\", \"Bruce Wayne\")\n",
        "hero2 = (\"Wonder Woman\", \"Diana Prince\")\n",
        "awesome_team = (hero1, hero2)\n",
        "print(awesome_team)\n",
        "\n",
        "# Search\n",
        "cities = (\"London\", \"Paris\", \"Los Angeles\", \"Tokyo\")\n",
        "print(\"Moscow\" in cities)\n",
        "\n",
        "# Index\n",
        "cities = (\"London\", \"Paris\", \"Los Angeles\", \"Tokyo\")\n",
        "print(cities.index(\"Tokyo\"))"
      ],
      "metadata": {
        "id": "-TYbOLOsIwAt",
        "colab": {
          "base_uri": "https://localhost:8080/"
        },
        "outputId": "73a7c9e0-a2e9-4394-cf18-5349908127f3"
      },
      "execution_count": 47,
      "outputs": [
        {
          "output_type": "stream",
          "name": "stdout",
          "text": [
            "('Ford', 'Raptor', 2019, 'Red')\n",
            "4\n",
            "Raptor\n",
            "(2019, 'Red')\n",
            "('Batman', 'Bruce Wayne', 'Wonder Woman', 'Diana Prince')\n",
            "(('Batman', 'Bruce Wayne'), ('Wonder Woman', 'Diana Prince'))\n",
            "False\n",
            "3\n"
          ]
        }
      ]
    },
    {
      "cell_type": "markdown",
      "source": [
        "* Dictionaries"
      ],
      "metadata": {
        "id": "LVOaVNFYI_Gg"
      }
    },
    {
      "cell_type": "code",
      "source": [
        "empty_dict = {}  # Empty dictionary\n",
        "print(empty_dict)\n",
        "\n",
        "phone_book = {\"Batman\": 468426,\n",
        "              \"Cersei\": 237734,\n",
        "              \"Ghostbusters\": 44678}\n",
        "print(phone_book)\n",
        "\n",
        "# The dict() Constructor\n",
        "empty_dict = dict()  # Empty dictionary\n",
        "print(empty_dict)\n",
        "\n",
        "phone_book = dict(Batman=468426, Cersei=237734, Ghostbusters=44678)\n",
        "# Keys will automatically be converted to strings\n",
        "print(phone_book)\n",
        "\n",
        "# Alternative approach\n",
        "phone_book = dict([('Batman', 468426),\n",
        "                   ('Cersei', 237734),\n",
        "                   ('Ghostbusters', 44678)])\n",
        "print(phone_book)\n",
        "\n",
        "# Accessing Values\n",
        "phone_book = {\"Batman\": 468426,\n",
        "              \"Cersei\": 237734,\n",
        "              \"Ghostbusters\": 44678}\n",
        "print(phone_book[\"Cersei\"])\n",
        "print(phone_book.get(\"Ghostbusters\"))\n",
        "\n",
        "# Adding/Updating Entries\n",
        "phone_book = {\"Batman\": 468426,\n",
        "              \"Cersei\": 237734,\n",
        "              \"Ghostbusters\": 44678}\n",
        "print(phone_book)\n",
        "\n",
        "phone_book[\"Godzilla\"] = 46394  # New entry\n",
        "print(phone_book)\n",
        "\n",
        "phone_book[\"Godzilla\"] = 9000  # Updating entry\n",
        "print(phone_book)\n",
        "\n",
        "# Removing Entries\n",
        "phone_book = {\"Batman\": 468426,\n",
        "              \"Cersei\": 237734,\n",
        "              \"Ghostbusters\": 44678}\n",
        "print(phone_book)\n",
        "\n",
        "del phone_book[\"Batman\"]\n",
        "print(phone_book)\n",
        "\n",
        "#Pop and popitem\n",
        "phone_book = {\"Batman\": 468426,\n",
        "              \"Cersei\": 237734,\n",
        "              \"Ghostbusters\": 44678}\n",
        "print(phone_book)\n",
        "\n",
        "cersei = phone_book.pop(\"Cersei\")\n",
        "print(phone_book)\n",
        "print(cersei)\n",
        "\n",
        "# Removes and returns the last inserted pair, as a tuple\n",
        "# In Python versions before 3.7, popitem() removes and returns the random item\n",
        "lastAdded = phone_book.popitem()\n",
        "print(lastAdded)\n",
        "\n",
        "# Length of a Dictionary\n",
        "phone_book = {\"Batman\": 468426,\n",
        "              \"Cersei\": 237734,\n",
        "              \"Ghostbusters\": 44678}\n",
        "print(len(phone_book))\n",
        "\n",
        "# Checking Key Existence\n",
        "phone_book = {\"Batman\": 468426,\n",
        "              \"Cersei\": 237734,\n",
        "              \"Ghostbusters\": 44678}\n",
        "print(\"Batman\" in phone_book)\n",
        "print(\"Godzilla\" in phone_book)\n",
        "\n",
        "# Copying Contents\n",
        "phone_book = {\"Batman\": 468426,\n",
        "              \"Cersei\": 237734,\n",
        "              \"Ghostbusters\": 44678}\n",
        "\n",
        "second_phone_book = {\"Catwoman\": 67423, \"Jaime\": 237734, \"Godzilla\": 37623}\n",
        "\n",
        "# Add secondphone_book to phone_book\n",
        "phone_book.update(second_phone_book)\n",
        "print(phone_book)\n",
        "\n",
        "# Dictionary Comprehension\n",
        "houses = {1: \"Gryffindor\", 2: \"Slytherin\", 3: \"Hufflepuff\", 4: \"Ravenclaw\"}\n",
        "new_houses = {n**2: house + \"!\" for (n, house) in houses.items()}\n",
        "print(houses)\n",
        "print(new_houses)"
      ],
      "metadata": {
        "id": "gTUzTpNJJACA",
        "colab": {
          "base_uri": "https://localhost:8080/"
        },
        "outputId": "a561d214-1161-4497-bb8d-89d8d744b144"
      },
      "execution_count": 48,
      "outputs": [
        {
          "output_type": "stream",
          "name": "stdout",
          "text": [
            "{}\n",
            "{'Batman': 468426, 'Cersei': 237734, 'Ghostbusters': 44678}\n",
            "{}\n",
            "{'Batman': 468426, 'Cersei': 237734, 'Ghostbusters': 44678}\n",
            "{'Batman': 468426, 'Cersei': 237734, 'Ghostbusters': 44678}\n",
            "237734\n",
            "44678\n",
            "{'Batman': 468426, 'Cersei': 237734, 'Ghostbusters': 44678}\n",
            "{'Batman': 468426, 'Cersei': 237734, 'Ghostbusters': 44678, 'Godzilla': 46394}\n",
            "{'Batman': 468426, 'Cersei': 237734, 'Ghostbusters': 44678, 'Godzilla': 9000}\n",
            "{'Batman': 468426, 'Cersei': 237734, 'Ghostbusters': 44678}\n",
            "{'Cersei': 237734, 'Ghostbusters': 44678}\n",
            "{'Batman': 468426, 'Cersei': 237734, 'Ghostbusters': 44678}\n",
            "{'Batman': 468426, 'Ghostbusters': 44678}\n",
            "237734\n",
            "('Ghostbusters', 44678)\n",
            "3\n",
            "True\n",
            "False\n",
            "{'Batman': 468426, 'Cersei': 237734, 'Ghostbusters': 44678, 'Catwoman': 67423, 'Jaime': 237734, 'Godzilla': 37623}\n",
            "{1: 'Gryffindor', 2: 'Slytherin', 3: 'Hufflepuff', 4: 'Ravenclaw'}\n",
            "{1: 'Gryffindor!', 4: 'Slytherin!', 9: 'Hufflepuff!', 16: 'Ravenclaw!'}\n"
          ]
        }
      ]
    },
    {
      "cell_type": "markdown",
      "source": [
        "**Sets**"
      ],
      "metadata": {
        "id": "M5DPX08VJncT"
      }
    },
    {
      "cell_type": "code",
      "source": [
        "random_set = {\"Educative\", 1408, 3.142,\n",
        "              (True, False)}\n",
        "print(random_set)\n",
        "print(len(random_set))  # Length of the set\n",
        "\n",
        "# The set() Constructor\n",
        "empty_set = set()\n",
        "print(empty_set)\n",
        "\n",
        "random_set = set({\"Educative\", 1408, 3.142, (True, False)})\n",
        "print(random_set)\n",
        "\n",
        "# Adding Elements\n",
        "empty_set = set()\n",
        "print(empty_set)\n",
        "\n",
        "empty_set.add(1)\n",
        "print(empty_set)\n",
        "\n",
        "empty_set.update([2, 3, 4, 5, 6])\n",
        "print(empty_set)\n",
        "\n",
        "# Deleting Elements\n",
        "random_set = set({\"Educative\", 1408, 3.142, (True, False)})\n",
        "print(random_set)\n",
        "\n",
        "random_set.discard(1408)\n",
        "print(random_set)\n",
        "\n",
        "random_set.remove((True, False))\n",
        "print(random_set)\n",
        "\n",
        "# Iterating a Set\n",
        "odd_list = [1, 3, 5, 7]\n",
        "unordered_set = {9, 10, 11, 12, 13, 14, 15, 16, 17}\n",
        "\n",
        "print(unordered_set)\n",
        "\n",
        "for num in unordered_set:\n",
        "    if(not num % 2 == 0):\n",
        "        odd_list.append(num)\n",
        "\n",
        "print(odd_list)\n",
        "\n",
        "# Union \n",
        "set_A = {1, 2, 3, 4}\n",
        "set_B = {'a', 'b', 'c', 'd'}\n",
        "\n",
        "print(set_A | set_B)\n",
        "print(set_A.union(set_B))\n",
        "print(set_B.union(set_A))\n",
        "\n",
        "# Intersection\n",
        "set_A = {1, 2, 3, 4}\n",
        "set_B = {2, 8, 4, 16}\n",
        "\n",
        "print(set_A & set_B)\n",
        "print(set_A.intersection(set_B))\n",
        "print(set_B.intersection(set_A))\n",
        "\n",
        "# Difference\n",
        "set_A = {1, 2, 3, 4}\n",
        "set_B = {2, 8, 4, 16}\n",
        "\n",
        "print(set_A - set_B)\n",
        "print(set_A.difference(set_B))\n",
        "\n",
        "print(set_B - set_A)\n",
        "print(set_B.difference(set_A))\n",
        "\n",
        "# Converting to a List\n",
        "star_wars_tup = (\"Anakin\", \"Darth Vader\", 1000)\n",
        "print(star_wars_tup)\n",
        "star_wars_set = {\"Anakin\", \"Darth Vader\", 1000}\n",
        "print(star_wars_set)\n",
        "star_wars_dict = {1: \"Anakin\", 2: \"Darth Vader\", 3: 1000}\n",
        "print(star_wars_dict)\n",
        "\n",
        "star_wars_list = list(star_wars_tup)  # Converting from tuple\n",
        "print(star_wars_list)\n",
        "\n",
        "star_wars_list = list(star_wars_set)  # Converting from set\n",
        "print(star_wars_list)\n",
        "\n",
        "star_wars_list = list(star_wars_dict)  # Converting from dictionary\n",
        "print(star_wars_list)\n",
        "\n",
        "star_wars_dict = {1: \"Anakin\", 2: \"Darth Vader\", 3: 1000}\n",
        "print(star_wars_dict)\n",
        "\n",
        "star_wars_list = list(star_wars_dict.items())\n",
        "print(star_wars_list)\n",
        "\n",
        "# Converting to a Tuple\n",
        "star_wars_list = [\"Anakin\", \"Darth Vader\", 1000]\n",
        "print(star_wars_list)\n",
        "star_wars_set = {\"Anakin\", \"Darth Vader\", 1000}\n",
        "print(star_wars_set)\n",
        "star_wars_dict = {1: \"Anakin\", 2: \"Darth Vader\", 3: 1000}\n",
        "print(star_wars_dict)\n",
        "\n",
        "star_wars_tup = tuple(star_wars_list)  # Converting from list\n",
        "print(star_wars_tup)\n",
        "\n",
        "star_wars_tup = tuple(star_wars_set)  # Converting from set\n",
        "print(star_wars_tup)\n",
        "\n",
        "star_wars_tup = tuple(star_wars_dict)  # Converting from dictionary\n",
        "print(star_wars_tup)\n",
        "\n",
        "# Converting to a Set\n",
        "star_wars_list = [\"Anakin\", \"Darth Vader\", 1000]\n",
        "print(star_wars_list)\n",
        "star_wars_tup = (\"Anakin\", \"Darth Vader\", 1000)\n",
        "print(star_wars_tup)\n",
        "star_wars_dict = {1: \"Anakin\", 2: \"Darth Vader\", 3: 1000}\n",
        "print(star_wars_dict)\n",
        "\n",
        "star_wars_set = set(star_wars_list)  # Converting from list\n",
        "print(star_wars_set)\n",
        "\n",
        "star_wars_set = set(star_wars_tup)  # Converting from tuple\n",
        "print(star_wars_set)\n",
        "\n",
        "star_wars_set = set(star_wars_dict)  # Converting from dictionary\n",
        "print(star_wars_set)\n",
        "\n",
        "# Converting to a Dictionary\n",
        "star_wars_list = [[1,\"Anakin\"], [2,\"Darth Vader\"], [3, 1000]]\n",
        "print (star_wars_list)\n",
        "star_wars_tup = ((1, \"Anakin\"), (2, \"Darth Vader\"), (3, 1000))\n",
        "print (star_wars_tup)\n",
        "star_wars_set = {(1, \"Anakin\"), (2, \"Darth Vader\"), (3, 1000)}\n",
        "print (star_wars_set)\n",
        "\n",
        "star_wars_dict = dict(star_wars_list) # Converting from list\n",
        "print(star_wars_dict)\n",
        "\n",
        "star_wars_dict = dict(star_wars_tup) # Converting from tuple\n",
        "print(star_wars_dict)\n",
        "\n",
        "star_wars_dict = dict(star_wars_set) # Converting from set\n",
        "print(star_wars_dict)"
      ],
      "metadata": {
        "id": "LbKVwiy3Jpga",
        "colab": {
          "base_uri": "https://localhost:8080/"
        },
        "outputId": "972d3cf6-c5b1-4b8d-d6c9-e4ee44ad0e7d"
      },
      "execution_count": 49,
      "outputs": [
        {
          "output_type": "stream",
          "name": "stdout",
          "text": [
            "{1408, (True, False), 3.142, 'Educative'}\n",
            "4\n",
            "set()\n",
            "{1408, (True, False), 3.142, 'Educative'}\n",
            "set()\n",
            "{1}\n",
            "{1, 2, 3, 4, 5, 6}\n",
            "{1408, (True, False), 3.142, 'Educative'}\n",
            "{(True, False), 3.142, 'Educative'}\n",
            "{3.142, 'Educative'}\n",
            "{9, 10, 11, 12, 13, 14, 15, 16, 17}\n",
            "[1, 3, 5, 7, 9, 11, 13, 15, 17]\n",
            "{1, 2, 3, 4, 'c', 'b', 'a', 'd'}\n",
            "{1, 2, 3, 4, 'c', 'b', 'a', 'd'}\n",
            "{1, 2, 3, 4, 'c', 'b', 'a', 'd'}\n",
            "{2, 4}\n",
            "{2, 4}\n",
            "{2, 4}\n",
            "{1, 3}\n",
            "{1, 3}\n",
            "{8, 16}\n",
            "{8, 16}\n",
            "('Anakin', 'Darth Vader', 1000)\n",
            "{'Darth Vader', 1000, 'Anakin'}\n",
            "{1: 'Anakin', 2: 'Darth Vader', 3: 1000}\n",
            "['Anakin', 'Darth Vader', 1000]\n",
            "['Darth Vader', 1000, 'Anakin']\n",
            "[1, 2, 3]\n",
            "{1: 'Anakin', 2: 'Darth Vader', 3: 1000}\n",
            "[(1, 'Anakin'), (2, 'Darth Vader'), (3, 1000)]\n",
            "['Anakin', 'Darth Vader', 1000]\n",
            "{'Darth Vader', 1000, 'Anakin'}\n",
            "{1: 'Anakin', 2: 'Darth Vader', 3: 1000}\n",
            "('Anakin', 'Darth Vader', 1000)\n",
            "('Darth Vader', 1000, 'Anakin')\n",
            "(1, 2, 3)\n",
            "['Anakin', 'Darth Vader', 1000]\n",
            "('Anakin', 'Darth Vader', 1000)\n",
            "{1: 'Anakin', 2: 'Darth Vader', 3: 1000}\n",
            "{'Darth Vader', 1000, 'Anakin'}\n",
            "{'Darth Vader', 1000, 'Anakin'}\n",
            "{1, 2, 3}\n",
            "[[1, 'Anakin'], [2, 'Darth Vader'], [3, 1000]]\n",
            "((1, 'Anakin'), (2, 'Darth Vader'), (3, 1000))\n",
            "{(1, 'Anakin'), (2, 'Darth Vader'), (3, 1000)}\n",
            "{1: 'Anakin', 2: 'Darth Vader', 3: 1000}\n",
            "{1: 'Anakin', 2: 'Darth Vader', 3: 1000}\n",
            "{1: 'Anakin', 2: 'Darth Vader', 3: 1000}\n"
          ]
        }
      ]
    },
    {
      "cell_type": "markdown",
      "source": [
        "**Python Standard Library**\n",
        "\n",
        "The Python Standard Library, PSL, is a collection of pre-defined modules, or sets of methods which help us perform certain tasks in Python."
      ],
      "metadata": {
        "id": "WKoThw2yBr9L"
      }
    },
    {
      "cell_type": "code",
      "source": [
        "# import the datetime module which contains several methods related to the current date and time\n",
        "\n",
        "import datetime # Importing modules at the beginning of the program is a good practice\n",
        "\n",
        "date_today = datetime.date.today()  # Current date\n",
        "print(date_today)\n",
        "\n",
        "time_today = datetime.datetime.now()\n",
        "print(time_today.strftime(\"%H:%M:%S\"))  # Current time"
      ],
      "metadata": {
        "id": "uOMP9G-HBsyq",
        "colab": {
          "base_uri": "https://localhost:8080/"
        },
        "outputId": "c5d2b36f-a7ca-4689-e11d-cd112d4f7db8"
      },
      "execution_count": 50,
      "outputs": [
        {
          "output_type": "stream",
          "name": "stdout",
          "text": [
            "2022-10-13\n",
            "16:30:57\n"
          ]
        }
      ]
    },
    {
      "cell_type": "markdown",
      "source": [
        "If we only want a particular class from a module, we can use the from keyword in the following format"
      ],
      "metadata": {
        "id": "SVSp6ZBLCHRM"
      }
    },
    {
      "cell_type": "code",
      "source": [
        "from datetime import date\n",
        "\n",
        "# Now we only have the methods of the date class\n",
        "date_today = date.today()  # Current date\n",
        "print(date_today)\n",
        "\n",
        "# These won't work\n",
        "# time_today = datetime.datetime.now()\n",
        "# print (time_today.strftime(\"%H:%M:%S\"))# Current time"
      ],
      "metadata": {
        "id": "sNs-TDnHCOj6",
        "colab": {
          "base_uri": "https://localhost:8080/"
        },
        "outputId": "4f7a049b-88eb-4a78-bfcf-50c6bce1eec8"
      },
      "execution_count": 51,
      "outputs": [
        {
          "output_type": "stream",
          "name": "stdout",
          "text": [
            "2022-10-13\n"
          ]
        }
      ]
    },
    {
      "cell_type": "markdown",
      "source": [
        "* Popular Modules"
      ],
      "metadata": {
        "id": "PkA2iOkHCXr6"
      }
    },
    {
      "cell_type": "code",
      "source": [
        "# The math module offers a wide range of mathematical functions such as factorial, trigonometric operations, etc.\n",
        "import math\n",
        "\n",
        "fact_of_5 = math.factorial(5)  # The factorial of 5\n",
        "print(fact_of_5)\n",
        "\n",
        "gcd = math.gcd(300, 90)  # Greatest common denominator\n",
        "print(gcd)\n",
        "\n",
        "log100 = (math.log(10, 100))  # Logarithm of 10 to the base of 100\n",
        "print(log100)\n"
      ],
      "metadata": {
        "id": "kxfCBZ66CY5n",
        "colab": {
          "base_uri": "https://localhost:8080/"
        },
        "outputId": "3e8c38d0-2917-4043-8671-36f790039309"
      },
      "execution_count": 52,
      "outputs": [
        {
          "output_type": "stream",
          "name": "stdout",
          "text": [
            "120\n",
            "30\n",
            "0.5\n"
          ]
        }
      ]
    },
    {
      "cell_type": "code",
      "source": [
        "# The heapq module allows us to create the heap data structure.\n",
        "import heapq\n",
        "\n",
        "heap = []  # Empty heap\n",
        "\n",
        "# Inserting elements in the heap\n",
        "heapq.heappush(heap, 10)\n",
        "heapq.heappush(heap, 70)\n",
        "heapq.heappush(heap, 5)\n",
        "heapq.heappush(heap, 35)\n",
        "heapq.heappush(heap, 50)\n",
        "\n",
        "# Popping the smallest value\n",
        "minimum = heapq.heappop(heap)\n",
        "print(minimum)"
      ],
      "metadata": {
        "id": "2r6giAy6Ce-e",
        "colab": {
          "base_uri": "https://localhost:8080/"
        },
        "outputId": "af277e59-334b-4caa-c667-1b1827d947d6"
      },
      "execution_count": 53,
      "outputs": [
        {
          "output_type": "stream",
          "name": "stdout",
          "text": [
            "5\n"
          ]
        }
      ]
    },
    {
      "cell_type": "code",
      "source": [
        "# The random module is used for generating random numbers in Python.\n",
        "import random\n",
        "\n",
        "rand_num = random.random()\n",
        "print(rand_num)\n",
        "\n",
        "rand_num_in_range = random.uniform(30, 50)  # A random number between 30 and 50\n",
        "print(rand_num_in_range)\n",
        "\n",
        "str_list = ['a', 'b', 'c', 'd', 'e']\n",
        "random.shuffle(str_list)  # Randomly shuffle a list\n",
        "print(str_list)"
      ],
      "metadata": {
        "id": "4XwcJ-nuCm3c",
        "colab": {
          "base_uri": "https://localhost:8080/"
        },
        "outputId": "bdcb96c2-85b4-4b4c-dd97-91d0ff7cc6af"
      },
      "execution_count": 54,
      "outputs": [
        {
          "output_type": "stream",
          "name": "stdout",
          "text": [
            "0.44209122325984973\n",
            "38.54472536502041\n",
            "['d', 'b', 'e', 'a', 'c']\n"
          ]
        }
      ]
    },
    {
      "cell_type": "markdown",
      "source": [
        "**PyPI**\n",
        "\n",
        "ython has a standard library that contains many different modules which serve different purposes. However, we are not limited to these modules.\n",
        "\n",
        "Developers from all over the world have contributed to increasing the functionality of Python through packages.\n",
        "\n",
        "Packages are also collections of modules or smaller packages that assist us in performing certain tasks. The only difference is that these packages have to be installed before they can be imported."
      ],
      "metadata": {
        "id": "2LRoWtXSCsci"
      }
    },
    {
      "cell_type": "markdown",
      "source": [
        "**Python IDEs**\n",
        "\n",
        "An Integrated Development Environment (IDE) is a software package which allows us to code in a certain language or environment. It is isolated from the rest of our system, making it safe and easy to use."
      ],
      "metadata": {
        "id": "fdZOxbVDDCnR"
      }
    },
    {
      "cell_type": "markdown",
      "source": [
        "* **PyCharm**: is perhaps the most widely used Python IDE. It has both free and paid versions.\n",
        "\n",
        "* **IDLE**: is one of the simplest Python IDEs out there. With a user-friendly interface and all the basic tools of Python, it is a very good option for pure beginners who want to write simple programs.\n",
        "\n",
        "* **Spyder**: This open source IDE is a personal favorite for many developers. Spyder comes equipped with all the smart coding features such as formatting, highlighting, and debugging."
      ],
      "metadata": {
        "id": "8C9EFrccDJcW"
      }
    },
    {
      "cell_type": "markdown",
      "source": [
        "While IDEs are easy to use, there are certain limitations.\n",
        "\n",
        "* They are not always updated with the latest features of the language.\n",
        "\n",
        "* An IDE is not a good option if we want to understand the inner workings of a language (which would make us better developers).\n",
        "\n",
        "* Several IDEs face performance issues.\n",
        "\n",
        "* Integration with other frameworks may be difficult."
      ],
      "metadata": {
        "id": "qXR1kApbDyrZ"
      }
    }
  ]
}