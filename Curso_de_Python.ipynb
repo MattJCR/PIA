{
  "nbformat": 4,
  "nbformat_minor": 0,
  "metadata": {
    "colab": {
      "provenance": [],
      "authorship_tag": "ABX9TyP5bLL5eoyvQ8B6J3vdeLy+",
      "include_colab_link": true
    },
    "kernelspec": {
      "name": "python3",
      "display_name": "Python 3"
    },
    "language_info": {
      "name": "python"
    }
  },
  "cells": [
    {
      "cell_type": "markdown",
      "metadata": {
        "id": "view-in-github",
        "colab_type": "text"
      },
      "source": [
        "<a href=\"https://colab.research.google.com/github/MattJCR/PIA/blob/master/Curso_de_Python.ipynb\" target=\"_parent\"><img src=\"https://colab.research.google.com/assets/colab-badge.svg\" alt=\"Open In Colab\"/></a>"
      ]
    },
    {
      "cell_type": "markdown",
      "source": [
        "# Curso de PYTHON\n",
        "\n",
        "\n"
      ],
      "metadata": {
        "id": "ufU7kcYv5C58"
      }
    },
    {
      "cell_type": "markdown",
      "source": [
        "**Use of print**\n"
      ],
      "metadata": {
        "id": "SP3uCMbV8gup"
      }
    },
    {
      "cell_type": "code",
      "source": [
        "a = \"Hola\"\n",
        "b = \"mundo\""
      ],
      "metadata": {
        "id": "s27Gg4665oxj"
      },
      "execution_count": null,
      "outputs": []
    },
    {
      "cell_type": "code",
      "execution_count": null,
      "metadata": {
        "colab": {
          "base_uri": "https://localhost:8080/"
        },
        "id": "TljgFLlY4wr7",
        "outputId": "ace08ea7-9e17-4b54-ea1b-4ea079e8ce97"
      },
      "outputs": [
        {
          "output_type": "stream",
          "name": "stdout",
          "text": [
            "Hola mundo\n",
            "Holamundo\n",
            "Hola mundo\n"
          ]
        }
      ],
      "source": [
        "print(a,b)\n",
        "print(a+b)\n",
        "print(a + \" \" + b)"
      ]
    },
    {
      "cell_type": "markdown",
      "source": [
        "**Data Types and Variables**"
      ],
      "metadata": {
        "id": "_y5637Pi8oD-"
      }
    },
    {
      "cell_type": "markdown",
      "source": [
        "* Numbers\n"
      ],
      "metadata": {
        "id": "2g0U4bI49C_l"
      }
    },
    {
      "cell_type": "code",
      "source": [
        "# INTEGER\n",
        "print(10)  # A positive integer\n",
        "print(-3000)  # A negative integer\n",
        "\n",
        "num = 123456789  # Assigning an integer to a variable\n",
        "print(num)\n",
        "num = -16000  # Assigning a new integer\n",
        "print(num)\n",
        "\n",
        "# FLOAT\n",
        "print(1.00000000005)  # A positive float\n",
        "print(-85.6701)  # A negative float\n",
        "\n",
        "flt_pt = 1.23456789\n",
        "print(flt_pt)\n",
        "\n",
        "# COMPLEX\n",
        "# It requires two values. The first one will be the real \n",
        "# part of the complex number, while the second value will \n",
        "# be the imaginary part.\n",
        "print(complex(10, 20))  # Represents the complex number (10 + 20j)\n",
        "print(complex(2.5, -18.2))  # Represents the complex number (2.5 - 18.2j)\n",
        "\n",
        "complex_1 = complex(0, 2)\n",
        "complex_2 = complex(2, 0)\n",
        "print(complex_1)\n",
        "print(complex_2)"
      ],
      "metadata": {
        "id": "rDanGA3S8rJ7"
      },
      "execution_count": null,
      "outputs": []
    },
    {
      "cell_type": "markdown",
      "source": [
        "* Boolean"
      ],
      "metadata": {
        "id": "Dl_ZOOOR93F-"
      }
    },
    {
      "cell_type": "code",
      "source": [
        "print(True) # Represents the Boolean True value\n",
        "\n",
        "f_bool = False # Represents the Boolean False value\n",
        "print(f_bool)"
      ],
      "metadata": {
        "id": "OQcIVhp19_lo"
      },
      "execution_count": null,
      "outputs": []
    },
    {
      "cell_type": "markdown",
      "source": [
        "* String\n",
        "\n",
        "\n"
      ],
      "metadata": {
        "id": "yAII-w2L-LuG"
      }
    },
    {
      "cell_type": "code",
      "source": [
        "# Simple string\n",
        "print(\"Harry Potter!\")  # Double quotation marks\n",
        "\n",
        "got = 'Game of Thrones...'  # Single quotation marks\n",
        "print(got)\n",
        "print(\"$\")  # Single character\n",
        "\n",
        "empty = \"\"\n",
        "print(empty)  # Just prints an empty line\n",
        "\n",
        "# To add a multi-line string we can use triple quotes.\n",
        "multiple_lines = '''Triple quotes allows\n",
        "multi-line string.'''\n",
        "print(multiple_lines)\n",
        "\n",
        "# Length of a String\n",
        "random_string = \"I am Batman\"  # 11 characters\n",
        "print(len(random_string))\n",
        "\n",
        "# Indexing and accesing characters\n",
        "batman = \"Bruce Wayne\"\n",
        "\n",
        "first = batman[0]  # Accessing the first character\n",
        "print(first)\n",
        "\n",
        "space = batman[5]  # Accessing the empty space in the string\n",
        "print(space)\n",
        "\n",
        "last = batman[len(batman) - 1]\n",
        "print(last)\n",
        "# The following will produce an error since the index is out of bounds\n",
        "# err = batman[len(batman)]\n",
        "\n",
        "# Reverse Indexing\n",
        "batman = \"Bruce Wayne\"\n",
        "print(batman[-1])  # Corresponds to batman[10]\n",
        "print(batman[-5])  # Corresponds to batman[6]\n",
        "\n",
        "# String immutability\n",
        "string = \"Immutability\"\n",
        "string[0] = 'O' # Will give error\n",
        "# The above code gives TypeError because Python doesn’t \n",
        "# support item assignment in case of strings.\n",
        "\n",
        "str1 = \"hello\"\n",
        "print(id(str1))\n",
        "print(str1)\n",
        "str1 = \"bye\"\n",
        "print(id(str1))\n",
        "print(str1)\n",
        "# Remember, assigning a new value to string variable \n",
        "# doesn’t mean that you’ve changed the value.\n",
        "\n",
        "\n",
        "\n"
      ],
      "metadata": {
        "id": "rbzHMye2-Nsk"
      },
      "execution_count": null,
      "outputs": []
    },
    {
      "cell_type": "markdown",
      "source": [
        "* NoneType"
      ],
      "metadata": {
        "id": "1WY7m4sqAm5j"
      }
    },
    {
      "cell_type": "code",
      "source": [
        "val = None\n",
        "print(val) # prints \"None\" and returns None\n",
        "print (type(val))\n",
        "# Important Points\n",
        "# None is not a default value for the variable that has not yet been assigned a value.\n",
        "# None is not the same as False.\n",
        "# None is not an empty string.\n",
        "# None is not 0."
      ],
      "metadata": {
        "id": "rh4FlTq5AphR"
      },
      "execution_count": null,
      "outputs": []
    },
    {
      "cell_type": "markdown",
      "source": [
        "* String Slicing"
      ],
      "metadata": {
        "id": "y9oqf-ErBcSS"
      }
    },
    {
      "cell_type": "code",
      "source": [
        "# Slicing\n",
        "# Slicing is the process of obtaining a portion (substring) of a string by using its indices.\n",
        "my_string = \"This is MY string!\"\n",
        "print(my_string[0:4]) # From the start till before the 4th index\n",
        "print(my_string[1:7])\n",
        "print(my_string[8:len(my_string)]) # From the 8th index till the end\n",
        "\n",
        "# Slicing with a Step\n",
        "# slice a string by defining a step through which we can skip characters in the string.\n",
        "my_string = \"This is MY string!\"\n",
        "print(my_string[0:7])  # A step of 1\n",
        "print(my_string[0:7:2])  # A step of 2\n",
        "print(my_string[0:7:5])  # A step of 5\n",
        "\n",
        "# Reverse Slicing\n",
        "# Strings can also be sliced to return a reversed substring.\n",
        "my_string = \"This is MY string!\"\n",
        "print(my_string[13:2:-1]) # Take 1 step back each time\n",
        "print(my_string[17:0:-2]) # Take 2 steps back. The opposite of what happens in the slide above\n",
        "\n",
        "# Partial  Slicing\n",
        "# One thing to note is that specifying the start and end indices is optional.\n",
        "my_string = \"This is MY string!\"\n",
        "print(my_string[:8])  # All the characters before 'M'\n",
        "print(my_string[8:])  # All the characters starting from 'M'\n",
        "print(my_string[:])  # The whole string\n",
        "print(my_string[::-1])  # The whole string in reverse (step is -1)\n"
      ],
      "metadata": {
        "id": "uwO1LHbMBfk-"
      },
      "execution_count": null,
      "outputs": []
    },
    {
      "cell_type": "markdown",
      "source": [
        "* String Formatting"
      ],
      "metadata": {
        "id": "Qqm0SvKFDdof"
      }
    },
    {
      "cell_type": "code",
      "source": [
        "# Inserting String within a String\n",
        "string1 = \"I like %s\" % \"Python\"\n",
        "print(string1) # 'I like Python'\n",
        "\n",
        "temp = \"Educative\"\n",
        "string2 = \"I like %s\" % temp\n",
        "print(string2) # 'I like Educative'\n",
        "\n",
        "string3 = \"I like %s and %s\" % (\"Python\", temp)\n",
        "print(string3)  # 'I like Python and Educative'\n",
        "\n",
        "# Inserting Integers Within a String\n",
        "my_string = \"%i + %i = %i\" % (1,2,3)\n",
        "print(my_string) # '1 + 2 = 3'\n",
        "\n",
        "# Inserting Floats Within a String\n",
        "string1 = \"%f\" % (1.11)\n",
        "print(string1) # '1.110000'\n",
        "\n",
        "string2 = \"%.2f\" % (1.11) # 2f Round the number to two decimal\n",
        "print(string2) # '1.11'\n",
        "\n",
        "string3 = \"%.2f\" % (1.117)\n",
        "print(string3) # '1.12'"
      ],
      "metadata": {
        "id": "dceM-fV-Dhmx"
      },
      "execution_count": null,
      "outputs": []
    },
    {
      "cell_type": "markdown",
      "source": [
        "**Operators**"
      ],
      "metadata": {
        "id": "GVMm7E9wEXfj"
      }
    },
    {
      "cell_type": "markdown",
      "source": [
        "* Arithmetic Operators"
      ],
      "metadata": {
        "id": "9vt6RcnSEjvM"
      }
    },
    {
      "cell_type": "code",
      "source": [
        "# Addition \n",
        "print(10 + 5)\n",
        "\n",
        "# Subtraction \n",
        "print(10 - 5)\n",
        "\n",
        "# Multiplication \n",
        "print(40 * 10)\n",
        "\n",
        "# Division \n",
        "print(40 / 10)\n",
        "\n",
        "# Floor Division \n",
        "# The result is floored to the nearest smaller integer.\n",
        "print(43 // 10)\n",
        "print(5.5 // 4.5)\n",
        "print(12.4 // 2)\n",
        "\n",
        "# Modulo \n",
        "print(10 % 2)\n",
        "\n",
        "# Different precedence\n",
        "print(10 - 3 * 2)  # Multiplication computed first, followed by subtraction\n",
        "\n",
        "# Same precedence\n",
        "print(3 * 20 / 5)  # Multiplication computed first, followed by division\n",
        "print(3 / 20 * 5)  # Division computed first, followed by multiplication\n",
        "\n",
        "# Parentheses \n",
        "print((10 - 3) * 2)  # Subtraction occurs first\n",
        "\n"
      ],
      "metadata": {
        "id": "orD2bORUEZfR"
      },
      "execution_count": null,
      "outputs": []
    },
    {
      "cell_type": "markdown",
      "source": [
        "* Comparison Operators"
      ],
      "metadata": {
        "id": "gxLd3MK1FdS9"
      }
    },
    {
      "cell_type": "code",
      "source": [
        "num1 = 5\n",
        "num2 = 10\n",
        "num3 = 10\n",
        "list1 = [6,7,8]\n",
        "list2 = [6,7,8]\n",
        "\n",
        "print(num2 > num1)  # 10 is greater than 5\n",
        "print(num1 > num2)  # 5 is not greater than 10\n",
        "\n",
        "print(num2 == num3)  # Both have the same value\n",
        "print(num3 != num1)  # Both have different values\n",
        "\n",
        "print(3 + 10 == 5 + 5)  # Both are not equal\n",
        "print(3 <= 2)  # 3 is not less than or equal to 2\n",
        "\n",
        "print(num2 is not num3)  # Both have the same object\n",
        "print(list1 is list2)  # Both have the different objects"
      ],
      "metadata": {
        "id": "155C4I0YFksJ"
      },
      "execution_count": null,
      "outputs": []
    },
    {
      "cell_type": "markdown",
      "source": [
        "* Assignment Operators"
      ],
      "metadata": {
        "id": "RMzY4vWqFuY6"
      }
    },
    {
      "cell_type": "code",
      "source": [
        "# Assigning Values\n",
        "year = 2019\n",
        "print(year)\n",
        "year = year + 1  # Using the existing value to create a new one\n",
        "print(year)\n",
        "num = 10\n",
        "print(num)\n",
        "\n",
        "# Add and Assign\n",
        "num += 5\n",
        "print(num)\n",
        "\n",
        "# Subtract and Assign\n",
        "num -= 5\n",
        "print(num)\n",
        "\n",
        "# Multiply and Assign\n",
        "num *= 2\n",
        "print(num)\n",
        "\n",
        "# Divide and Assign\n",
        "num /= 2\n",
        "print(num)\n",
        "\n",
        "# You can use the others operators\n"
      ],
      "metadata": {
        "id": "_i4mZK6jFwHR"
      },
      "execution_count": null,
      "outputs": []
    },
    {
      "cell_type": "markdown",
      "source": [
        "* Logical Operators"
      ],
      "metadata": {
        "id": "vkHqJJXSGfYv"
      }
    },
    {
      "cell_type": "code",
      "source": [
        "# OR Expression\n",
        "my_bool = True or False\n",
        "print(my_bool)\n",
        "\n",
        "# AND Expression\n",
        "my_bool = True and False\n",
        "print(my_bool)\n",
        "\n",
        "# NOT expression\n",
        "my_bool = False\n",
        "print(not my_bool)\n",
        "\n",
        "# Bit Value\n",
        "# In bit terms, the value of True is 1. False corresponds to 0.\n",
        "print(10 * True) # 10\n",
        "print(10 * False) # 0"
      ],
      "metadata": {
        "id": "NVBR5Ml5Ggin"
      },
      "execution_count": null,
      "outputs": []
    },
    {
      "cell_type": "markdown",
      "source": [
        "* Bitwise Operators"
      ],
      "metadata": {
        "id": "IqlIWytRG9qp"
      }
    },
    {
      "cell_type": "code",
      "source": [
        "num1 = 10  # Binary value = 01010\n",
        "num2 = 20  # Binary Value = 10100\n",
        "\n",
        "print(num1 & num2)   # 0   -> Binary value = 00000\n",
        "print(num1 | num2)   # 30  -> Binary value = 11110\n",
        "print(num1 ^ num2)   # 30  -> Binary value = 11110\n",
        "print(~num1)         # -11 -> Binary value = -(1011)\n",
        "print(num1 << 3)     # 80  -> Binary value = 0101 0000\n",
        "print(num2 >> 3)     # 2   -> Binary value = 0010"
      ],
      "metadata": {
        "id": "d88KS1tvHAPu"
      },
      "execution_count": null,
      "outputs": []
    },
    {
      "cell_type": "markdown",
      "source": [
        "* String Operations"
      ],
      "metadata": {
        "id": "5Bz4qXTNHGC8"
      }
    },
    {
      "cell_type": "code",
      "source": [
        "# Comparison Operators\n",
        "print('a' < 'b')  # 'a' has a smaller Unicode value\n",
        "\n",
        "house = \"Gryffindor\"\n",
        "house_copy = \"Gryffindor\"\n",
        "\n",
        "print(house == house_copy)\n",
        "\n",
        "new_house = \"Slytherin\"\n",
        "\n",
        "print(house == new_house)\n",
        "\n",
        "print(new_house <= house)\n",
        "\n",
        "print(new_house >= house)\n",
        "\n",
        "# Concatenation \n",
        "first_half = \"Bat\"\n",
        "second_half = \"man\"\n",
        "\n",
        "full_name = first_half + second_half\n",
        "print(full_name)\n",
        "\n",
        "# The * operator allows us to multiply a string, resulting in a repeating pattern.\n",
        "print(\"ha\" * 3)\n",
        "\n",
        "#Search \n",
        "random_string = \"This is a random string\"\n",
        "\n",
        "print('of' in random_string)  # Check whether 'of' exists in randomString\n",
        "print('random' in random_string)  # 'random' exists!\n"
      ],
      "metadata": {
        "id": "3YoDnR7jHIQi"
      },
      "execution_count": null,
      "outputs": []
    },
    {
      "cell_type": "markdown",
      "source": [
        "* Grouping Values"
      ],
      "metadata": {
        "id": "aakc-wSMHy8w"
      }
    },
    {
      "cell_type": "code",
      "source": [
        "# Making a List\n",
        "my_list = [1, 2.5, \"A string\", True]\n",
        "print(my_list)\n",
        "print(my_list[2]) # Get A String\n",
        "print(len(my_list)) # 4 elements"
      ],
      "metadata": {
        "id": "el4FlCJmH1Q9"
      },
      "execution_count": null,
      "outputs": []
    },
    {
      "cell_type": "markdown",
      "source": [
        "**Conditional Statements**"
      ],
      "metadata": {
        "id": "jjavVnoAWNZZ"
      }
    },
    {
      "cell_type": "markdown",
      "source": [
        "* If Statement"
      ],
      "metadata": {
        "id": "SK__GzqTX9Af"
      }
    },
    {
      "cell_type": "code",
      "source": [
        "# The Flow of an if Statement\n",
        "num = 5\n",
        "\n",
        "if (num == 5):  # The condition is true\n",
        "    print(\"The number is equal to 5\")  # The code is executed\n",
        "\n",
        "if num > 5:  # The condtion is false\n",
        "    print(\"The number is greater than 5\")  # The code is not executed\n",
        "\n",
        "# Conditions with Logical Operators\n",
        "num = 12\n",
        "\n",
        "if num % 2 == 0 and num % 3 == 0 and num % 4 == 0:\n",
        "    # Only works when num is a multiple of 2, 3, and 4\n",
        "    print(\"The number is a multiple of 2, 3, and 4\")\n",
        "\n",
        "if (num % 5 == 0 or num % 6 == 0):\n",
        "    # Only works when num is either a multiple of 5 or 6\n",
        "    print(\"The number is a multiple of 5 and/or 6\")\n",
        "\n",
        "# Nested if Statements\n",
        "num = 63\n",
        "\n",
        "if num >= 0 and num <= 100:\n",
        "    if num >= 50 and num <= 75:\n",
        "        if num >= 60 and num <= 70:\n",
        "            print(\"The number is in the 60-70 range\")\n",
        "\n",
        "\n"
      ],
      "metadata": {
        "id": "HbQnngg0WU8n"
      },
      "execution_count": null,
      "outputs": []
    },
    {
      "cell_type": "markdown",
      "source": [
        "* The if-else Statement"
      ],
      "metadata": {
        "id": "nTkYCaeIYbJF"
      }
    },
    {
      "cell_type": "code",
      "source": [
        "num = 60\n",
        "\n",
        "if num <= 50:\n",
        "    print(\"The number is less than or equal to 50\")\n",
        "else:\n",
        "    print(\"The number is greater than 50\")\n"
      ],
      "metadata": {
        "id": "Kq8Id-dSYcly"
      },
      "execution_count": null,
      "outputs": []
    },
    {
      "cell_type": "markdown",
      "source": [
        "* The if-elif-else Statement"
      ],
      "metadata": {
        "id": "mKVHNAb-ZcVv"
      }
    },
    {
      "cell_type": "code",
      "source": [
        "light = \"Red\"\n",
        "\n",
        "if light == \"Green\":\n",
        "    print(\"Go\")\n",
        "\n",
        "elif light == \"Yellow\":\n",
        "    print(\"Caution\")\n",
        "\n",
        "elif light == \"Red\":\n",
        "    print(\"Stop\")\n",
        "\n",
        "else:\n",
        "    print(\"Incorrect light signal\")"
      ],
      "metadata": {
        "id": "YaoHgJduZded"
      },
      "execution_count": null,
      "outputs": []
    },
    {
      "cell_type": "markdown",
      "source": [
        "**Functions**"
      ],
      "metadata": {
        "id": "ADtoxoVybaAS"
      }
    },
    {
      "cell_type": "markdown",
      "source": [
        "* Function Creation"
      ],
      "metadata": {
        "id": "tM58DM4wchi0"
      }
    },
    {
      "cell_type": "code",
      "source": [
        "# Funtion without Parameters\n",
        "def my_print_function():  # No parameters\n",
        "    print(\"This\")\n",
        "    print(\"is\")\n",
        "    print(\"A\")\n",
        "    print(\"function\")\n",
        "# Function ended\n",
        "\n",
        "\n",
        "my_print_function() # Calling the function in the program multiple times\n",
        "my_print_function()\n",
        "\n",
        "# Function Parameters\n",
        "def minimum(first, second):\n",
        "    if (first < second):\n",
        "        print(first)\n",
        "    else:\n",
        "        print(second)\n",
        "\n",
        "\n",
        "num1 = 10\n",
        "num2 = 20\n",
        "\n",
        "\n",
        "minimum(num1, num2) # Calling the function with parameters\n",
        "\n",
        "# The return Statement\n",
        "def minimum(first, second):\n",
        "    if (first < second):\n",
        "        return first\n",
        "    return second\n",
        "\n",
        "num1 = 10\n",
        "num2 = 20\n",
        "\n",
        "result = minimum(num1, num2)  # Storing the value returned by the function\n",
        "print(result)"
      ],
      "metadata": {
        "id": "rfB5p1jSbr-e"
      },
      "execution_count": null,
      "outputs": []
    },
    {
      "cell_type": "markdown",
      "source": [
        "* Function Scope\n"
      ],
      "metadata": {
        "id": "-awcjV6-fL-H"
      }
    },
    {
      "cell_type": "code",
      "source": [
        "# Data Lifecycle\n",
        "name = \"Ned\"\n",
        "\n",
        "def func():\n",
        "    name = \"Stark\"\n",
        "\n",
        "func()\n",
        "print(name)  # The value of 'name' remains unchanged.\n"
      ],
      "metadata": {
        "colab": {
          "base_uri": "https://localhost:8080/"
        },
        "id": "iNgJgNxnfNp-",
        "outputId": "62ad9b96-a7c9-42ae-a025-4a80bed892d5"
      },
      "execution_count": null,
      "outputs": [
        {
          "output_type": "stream",
          "name": "stdout",
          "text": [
            "Ned\n"
          ]
        }
      ]
    },
    {
      "cell_type": "markdown",
      "source": [
        "* Altering Data"
      ],
      "metadata": {
        "id": "UmJkM_gU475p"
      }
    },
    {
      "cell_type": "code",
      "source": [
        "num_list = [10, 20, 30, 40]\n",
        "print(num_list)\n",
        "\n",
        "\n",
        "def multiply_by_10(my_list):\n",
        "    my_list[0] *= 10\n",
        "    my_list[1] *= 10\n",
        "    my_list[2] *= 10\n",
        "    my_list[3] *= 10\n",
        "\n",
        "\n",
        "multiply_by_10(num_list)\n",
        "print(num_list)  # The contents of the list have been changed\n"
      ],
      "metadata": {
        "id": "DW0qYnFG4_yv"
      },
      "execution_count": null,
      "outputs": []
    },
    {
      "cell_type": "markdown",
      "source": [
        "* Strings.Find"
      ],
      "metadata": {
        "id": "vicQBwtk5OGk"
      }
    },
    {
      "cell_type": "markdown",
      "source": [
        "\n",
        "\n",
        "\n",
        "\n"
      ],
      "metadata": {
        "id": "qPIVKrsZ5V_x"
      }
    },
    {
      "cell_type": "code",
      "source": [
        "random_string = \"This is a string\"\n",
        "print(random_string.find(\"is\"))  # First instance of 'is' occurs at index 2\n",
        "print(random_string.find(\"is\", 9, 13))  # No instance of 'is' in this range\n"
      ],
      "metadata": {
        "id": "-vX1jmeV5hFv"
      },
      "execution_count": null,
      "outputs": []
    },
    {
      "cell_type": "markdown",
      "source": [
        "* Strings.Replace"
      ],
      "metadata": {
        "id": "9AX_-vnj5sQ9"
      }
    },
    {
      "cell_type": "code",
      "source": [
        "a_string = \"Welcome to Educative!\"\n",
        "new_string = a_string.replace(\"Welcome to\", \"Greetings from\")\n",
        "print(a_string)\n",
        "print(new_string)"
      ],
      "metadata": {
        "id": "INu_PXaJ5xy2"
      },
      "execution_count": null,
      "outputs": []
    },
    {
      "cell_type": "markdown",
      "source": [
        "* Changing the Letter Case"
      ],
      "metadata": {
        "id": "6nKjWSix587c"
      }
    },
    {
      "cell_type": "code",
      "source": [
        "print(\"UpperCase\".upper())\n",
        "print(\"LowerCase\".lower())"
      ],
      "metadata": {
        "id": "YJs8iHT-6Avu"
      },
      "execution_count": null,
      "outputs": []
    },
    {
      "cell_type": "markdown",
      "source": [
        "* Joining strings"
      ],
      "metadata": {
        "id": "Fmu47oXw6F7G"
      }
    },
    {
      "cell_type": "code",
      "source": [
        "llist = ['a', 'b', 'c']\n",
        "print('>>'.join(llist)) # joining strings with >>\n",
        "print('<<'.join(llist)) # joining strings with <<\n",
        "print(', '.join(llist)) # joining strings with comma and space"
      ],
      "metadata": {
        "id": "tLMclK_f6IlL"
      },
      "execution_count": null,
      "outputs": []
    },
    {
      "cell_type": "markdown",
      "source": [
        "* Formatting"
      ],
      "metadata": {
        "id": "Znd5aCfM6OaS"
      }
    },
    {
      "cell_type": "code",
      "source": [
        "string1 = \"Learn Python {version} at {cname}\".format(version = 3, cname = \"Educative\")\n",
        "string2 = \"Learn Python {0} at {1}\".format(3, \"Educative\")\n",
        "string3 = \"Learn Python {} at {}\".format(3, \"Educative\")\n",
        "\n",
        "print(string1)\n",
        "print(string2)\n",
        "print(string3)"
      ],
      "metadata": {
        "id": "0KYVWKHS6QNg"
      },
      "execution_count": null,
      "outputs": []
    },
    {
      "cell_type": "markdown",
      "source": [
        "* Type Conversions"
      ],
      "metadata": {
        "id": "hzK6dz-d6dN6"
      }
    },
    {
      "cell_type": "code",
      "source": [
        "# int\n",
        "print(int(\"12\") * 10)  # String to integer\n",
        "print(int(20.5))  # Float to integer\n",
        "print(int(False))  # Bool to integer\n",
        "# print (int(\"Hello\")) # This wouldn't work!\n",
        "\n",
        "# ord\n",
        "# Convert a character to its Unicode value\n",
        "print(ord('a'))\n",
        "print(ord('0'))\n",
        "\n",
        "# float\n",
        "print(float(24))\n",
        "print(float('24.5'))\n",
        "print(float(True))\n",
        "\n",
        "# str\n",
        "print(str(12) + '.345')\n",
        "print(str(False))\n",
        "print(str(12.345) + ' is a string')\n",
        "\n",
        "# bool\n",
        "print(bool(10)) # True\n",
        "print(bool(0.0)) # False\n",
        "print(bool(\"Hello\")) # True\n",
        "print(bool(\"\")) # False"
      ],
      "metadata": {
        "id": "80KrilzF6f-m"
      },
      "execution_count": null,
      "outputs": []
    },
    {
      "cell_type": "markdown",
      "source": [
        "* Input From the User"
      ],
      "metadata": {
        "id": "cw3qB6YE7JyJ"
      }
    },
    {
      "cell_type": "code",
      "source": [
        "name = input(\"What is your name? \")\n",
        "print(\"\\nHello,\", name)"
      ],
      "metadata": {
        "colab": {
          "base_uri": "https://localhost:8080/"
        },
        "id": "xJU9dMvs7K-n",
        "outputId": "c7f9bab5-4b4a-4bb3-a9dc-d84d6faf2d26"
      },
      "execution_count": 1,
      "outputs": [
        {
          "output_type": "stream",
          "name": "stdout",
          "text": [
            "What is your name? a\n",
            "\n",
            "Hello, a\n"
          ]
        }
      ]
    },
    {
      "cell_type": "markdown",
      "source": [
        "* Lambdas"
      ],
      "metadata": {
        "id": "M2FnmvX47TSp"
      }
    },
    {
      "cell_type": "code",
      "source": [
        "# A lambda is an anonymous function that returns some form of data\n",
        "\n",
        "triple = lambda num : num * 3  # Assigning the lambda to a variable\n",
        "print(triple(10))  # Calling the lambda and giving it a parameter\n",
        "\n",
        "concat_strings = lambda a, b, c: a[0] + b[0] + c[0]\n",
        "print(concat_strings(\"World\", \"Wide\", \"Web\"))\n",
        "\n",
        "my_func = lambda num: \"High\" if num > 50 else \"Low\"\n",
        "print(my_func(60))\n"
      ],
      "metadata": {
        "id": "kSTNPhqb7USh"
      },
      "execution_count": null,
      "outputs": []
    },
    {
      "cell_type": "markdown",
      "source": [
        "* Functions as Arguments"
      ],
      "metadata": {
        "id": "SoQqq2aX7sX6"
      }
    },
    {
      "cell_type": "code",
      "source": [
        "# Using Simple Functions\n",
        "def add(n1, n2):\n",
        "    return n1 + n2\n",
        "\n",
        "def subtract(n1, n2):\n",
        "    return n1 - n2\n",
        "\n",
        "def multiply(n1, n2):\n",
        "    return n1 * n2\n",
        "\n",
        "def divide(n1, n2):\n",
        "    return n1 / n2\n",
        "\n",
        "def calculator(operation, n1, n2):\n",
        "    return operation(n1, n2)  # Using the 'operation' argument as a function\n",
        "\n",
        "result = calculator(multiply, 10, 20)\n",
        "print(result)\n",
        "print(calculator(add, 10, 20))\n",
        "\n",
        "# Using Lambdas\n",
        "def calculator(operation, n1, n2):\n",
        "    return operation(n1, n2)  # Using the 'operation' argument as a function\n",
        "\n",
        "# 10 and 20 are the arguments.\n",
        "result = calculator(lambda n1, n2: n1 * n2, 10, 20)\n",
        "# The lambda multiplies them.\n",
        "print(result)\n",
        "print(calculator(lambda n1, n2: n1 + n2, 10, 20))\n",
        "\n",
        "# map() to double the values of an existing list\n",
        "num_list = [0, 1, 2, 3, 4, 5]\n",
        "double_list = map(lambda n: n * 2, num_list)\n",
        "print(list(double_list))\n",
        "\n",
        "# filter() filters elements from a list if the elements satisfy the condition that is specified in the argument function\n",
        "numList = [30, 2, -15, 17, 9, 100]\n",
        "greater_than_10 = list(filter(lambda n: n > 10, numList))\n",
        "print(greater_than_10)\n",
        "\n"
      ],
      "metadata": {
        "colab": {
          "base_uri": "https://localhost:8080/"
        },
        "id": "ezPce1df7tOX",
        "outputId": "8349bdff-6470-41f7-a520-bf1149b9ddc3"
      },
      "execution_count": 3,
      "outputs": [
        {
          "output_type": "stream",
          "name": "stdout",
          "text": [
            "200\n",
            "30\n",
            "200\n",
            "30\n"
          ]
        }
      ]
    },
    {
      "cell_type": "markdown",
      "source": [
        "* Recursion"
      ],
      "metadata": {
        "id": "BG79hGr_8yWI"
      }
    },
    {
      "cell_type": "code",
      "source": [
        "# A function which decrements a number recursively until the number becomes 0\n",
        "def rec_count(number):\n",
        "    print(number)\n",
        "    # Base case\n",
        "    if number == 0:\n",
        "        return 0\n",
        "    rec_count(number - 1)  # A recursive call with a different argument\n",
        "    print(number)\n",
        "\n",
        "rec_count(5)\n",
        "\n",
        "# The Fibonacci sequence\n",
        "def fib(n):\n",
        "    # The base cases\n",
        "    if n <= 1:  # First number in the sequence\n",
        "        return 0\n",
        "    elif n == 2:  # Second number in the sequence\n",
        "        return 1\n",
        "    else:\n",
        "        # Recursive call\n",
        "        return fib(n - 1) + fib(n - 2)\n",
        "\n",
        "print(fib(6))"
      ],
      "metadata": {
        "id": "UflNOs3s80G_"
      },
      "execution_count": null,
      "outputs": []
    },
    {
      "cell_type": "markdown",
      "source": [
        "**Loops**"
      ],
      "metadata": {
        "id": "pXlbOK_I-QI6"
      }
    },
    {
      "cell_type": "markdown",
      "source": [
        "* The for Loop"
      ],
      "metadata": {
        "id": "B-_V9Jlc-Xys"
      }
    },
    {
      "cell_type": "code",
      "source": [
        "for i in range(1, 11):  # A sequence from 1 to 10\n",
        "    if i % 2 == 0:\n",
        "        print(i, \" is even\")\n",
        "    else:\n",
        "        print(i, \" is odd\")\n",
        "\n",
        "for i in range(1, 11, 3):  # A sequence from 1 to 10 with a step of 3\n",
        "    print(i)\n",
        "\n",
        "# Looping Through a List/String\n",
        "float_list = [2.5, 16.42, 10.77, 8.3, 34.21]\n",
        "print(float_list)\n",
        "for i in range(0, len(float_list)):  # Iterator traverses to the last index of the list\n",
        "    float_list[i] = float_list[i] * 2\n",
        "print(float_list)"
      ],
      "metadata": {
        "id": "zD79itgd-Y27"
      },
      "execution_count": null,
      "outputs": []
    },
    {
      "cell_type": "markdown",
      "source": [
        "* Nested Loops"
      ],
      "metadata": {
        "id": "weSV1rTg-wOZ"
      }
    },
    {
      "cell_type": "code",
      "source": [
        "n = 50\n",
        "num_list = [10, 25, 4, 23, 6, 18, 27, 47]\n",
        "\n",
        "# The simplest way would be to compare every element with the rest of the list\n",
        "for n1 in num_list:\n",
        "    for n2 in num_list:  # Now we have two iterators\n",
        "        if(n1 != n2):\n",
        "            if(n1 + n2 == n):\n",
        "                print(n1, n2)"
      ],
      "metadata": {
        "id": "XdZSmVv0-xY4"
      },
      "execution_count": null,
      "outputs": []
    },
    {
      "cell_type": "markdown",
      "source": [
        "* The break Keyword"
      ],
      "metadata": {
        "id": "8xJt1ZNT_BLm"
      }
    },
    {
      "cell_type": "code",
      "source": [
        "n = 50\n",
        "num_list = [10, 25, 4, 23, 6, 18, 27, 47]\n",
        "found = False  # This bool will become true once a pair is found\n",
        "\n",
        "for n1 in num_list:\n",
        "    for n2 in num_list:\n",
        "        if(n1 != n2):\n",
        "            if(n1 + n2 == n):\n",
        "                found = True  # Set found to True\n",
        "                break  # Break inner loop if a pair is found\n",
        "    if found:\n",
        "        print(n1, n2) # Print the pair\n",
        "        break  # Break outer loop if a pair is found"
      ],
      "metadata": {
        "id": "RNa9zdJC_GTP"
      },
      "execution_count": null,
      "outputs": []
    },
    {
      "cell_type": "markdown",
      "source": [
        "* The continue Keyword"
      ],
      "metadata": {
        "id": "rkZ_rNgK_Ib0"
      }
    },
    {
      "cell_type": "code",
      "source": [
        "num_list = list(range(0, 10))\n",
        "# When the continue keyword is used, the rest of that particular iteration is skipped\n",
        "for num in num_list:\n",
        "    if num == 3 or num == 6 or num == 8:\n",
        "        continue\n",
        "    print(num)"
      ],
      "metadata": {
        "id": "9AE8yGk4_LUI"
      },
      "execution_count": null,
      "outputs": []
    },
    {
      "cell_type": "markdown",
      "source": [
        "* The pass Keyword"
      ],
      "metadata": {
        "id": "5EzH9n8G_RuW"
      }
    },
    {
      "cell_type": "code",
      "source": [
        "num_list = list(range(20))\n",
        "# In all practical meaning, the pass statement does nothing to the code execution\n",
        "for num in num_list:\n",
        "    pass # You can write code here later on\n",
        "\n",
        "print(len(num_list)) "
      ],
      "metadata": {
        "id": "JIEaPFEf_SpP"
      },
      "execution_count": null,
      "outputs": []
    },
    {
      "cell_type": "markdown",
      "source": [
        "* The while Loop"
      ],
      "metadata": {
        "id": "DcjR5S_I_jQ7"
      }
    },
    {
      "cell_type": "code",
      "source": [
        "n = 2  # Could be any number\n",
        "power = 0\n",
        "val = n\n",
        "# Finds out the maximum power of n before the value exceeds 1000\n",
        "while val < 1000:\n",
        "    power += 1\n",
        "    val *= n\n",
        "print(power)\n",
        "\n",
        "# The following loop computes the sum of the first and the last digits of any integer\n",
        "n = 249\n",
        "last = n % 10  # Finding the last number is easy\n",
        "first = n  # Set it to `n` initially\n",
        "while first >= 10:\n",
        "    first //= 10  # Keep dividing by 10 until the leftmost digit is reached.\n",
        "\n",
        "result = first + last\n",
        "print(result)"
      ],
      "metadata": {
        "id": "q-7vU6op_lD3"
      },
      "execution_count": null,
      "outputs": []
    },
    {
      "cell_type": "markdown",
      "source": [
        "**Python Standard Library**\n",
        "\n",
        "The Python Standard Library, PSL, is a collection of pre-defined modules, or sets of methods which help us perform certain tasks in Python."
      ],
      "metadata": {
        "id": "WKoThw2yBr9L"
      }
    },
    {
      "cell_type": "code",
      "source": [
        "# import the datetime module which contains several methods related to the current date and time\n",
        "\n",
        "import datetime # Importing modules at the beginning of the program is a good practice\n",
        "\n",
        "date_today = datetime.date.today()  # Current date\n",
        "print(date_today)\n",
        "\n",
        "time_today = datetime.datetime.now()\n",
        "print(time_today.strftime(\"%H:%M:%S\"))  # Current time"
      ],
      "metadata": {
        "id": "uOMP9G-HBsyq"
      },
      "execution_count": null,
      "outputs": []
    },
    {
      "cell_type": "markdown",
      "source": [
        "If we only want a particular class from a module, we can use the from keyword in the following format"
      ],
      "metadata": {
        "id": "SVSp6ZBLCHRM"
      }
    },
    {
      "cell_type": "code",
      "source": [
        "from datetime import date\n",
        "\n",
        "# Now we only have the methods of the date class\n",
        "date_today = date.today()  # Current date\n",
        "print(date_today)\n",
        "\n",
        "# These won't work\n",
        "# time_today = datetime.datetime.now()\n",
        "# print (time_today.strftime(\"%H:%M:%S\"))# Current time"
      ],
      "metadata": {
        "id": "sNs-TDnHCOj6"
      },
      "execution_count": null,
      "outputs": []
    },
    {
      "cell_type": "markdown",
      "source": [
        "* Popular Modules"
      ],
      "metadata": {
        "id": "PkA2iOkHCXr6"
      }
    },
    {
      "cell_type": "code",
      "source": [
        "# The math module offers a wide range of mathematical functions such as factorial, trigonometric operations, etc.\n",
        "import math\n",
        "\n",
        "fact_of_5 = math.factorial(5)  # The factorial of 5\n",
        "print(fact_of_5)\n",
        "\n",
        "gcd = math.gcd(300, 90)  # Greatest common denominator\n",
        "print(gcd)\n",
        "\n",
        "log100 = (math.log(10, 100))  # Logarithm of 10 to the base of 100\n",
        "print(log100)\n"
      ],
      "metadata": {
        "id": "kxfCBZ66CY5n"
      },
      "execution_count": null,
      "outputs": []
    },
    {
      "cell_type": "code",
      "source": [
        "# The heapq module allows us to create the heap data structure.\n",
        "import heapq\n",
        "\n",
        "heap = []  # Empty heap\n",
        "\n",
        "# Inserting elements in the heap\n",
        "heapq.heappush(heap, 10)\n",
        "heapq.heappush(heap, 70)\n",
        "heapq.heappush(heap, 5)\n",
        "heapq.heappush(heap, 35)\n",
        "heapq.heappush(heap, 50)\n",
        "\n",
        "# Popping the smallest value\n",
        "minimum = heapq.heappop(heap)\n",
        "print(minimum)"
      ],
      "metadata": {
        "id": "2r6giAy6Ce-e"
      },
      "execution_count": null,
      "outputs": []
    },
    {
      "cell_type": "code",
      "source": [
        "# The random module is used for generating random numbers in Python.\n",
        "import random\n",
        "\n",
        "rand_num = random.random()\n",
        "print(rand_num)\n",
        "\n",
        "rand_num_in_range = random.uniform(30, 50)  # A random number between 30 and 50\n",
        "print(rand_num_in_range)\n",
        "\n",
        "str_list = ['a', 'b', 'c', 'd', 'e']\n",
        "random.shuffle(str_list)  # Randomly shuffle a list\n",
        "print(str_list)"
      ],
      "metadata": {
        "id": "4XwcJ-nuCm3c"
      },
      "execution_count": null,
      "outputs": []
    },
    {
      "cell_type": "markdown",
      "source": [
        "**PyPI**\n",
        "\n",
        "ython has a standard library that contains many different modules which serve different purposes. However, we are not limited to these modules.\n",
        "\n",
        "Developers from all over the world have contributed to increasing the functionality of Python through packages.\n",
        "\n",
        "Packages are also collections of modules or smaller packages that assist us in performing certain tasks. The only difference is that these packages have to be installed before they can be imported."
      ],
      "metadata": {
        "id": "2LRoWtXSCsci"
      }
    },
    {
      "cell_type": "markdown",
      "source": [
        "**Python IDEs**\n",
        "\n",
        "An Integrated Development Environment (IDE) is a software package which allows us to code in a certain language or environment. It is isolated from the rest of our system, making it safe and easy to use."
      ],
      "metadata": {
        "id": "fdZOxbVDDCnR"
      }
    },
    {
      "cell_type": "markdown",
      "source": [
        "* **PyCharm**: is perhaps the most widely used Python IDE. It has both free and paid versions.\n",
        "\n",
        "* **IDLE**: is one of the simplest Python IDEs out there. With a user-friendly interface and all the basic tools of Python, it is a very good option for pure beginners who want to write simple programs.\n",
        "\n",
        "* **Spyder**: This open source IDE is a personal favorite for many developers. Spyder comes equipped with all the smart coding features such as formatting, highlighting, and debugging."
      ],
      "metadata": {
        "id": "8C9EFrccDJcW"
      }
    },
    {
      "cell_type": "markdown",
      "source": [
        "While IDEs are easy to use, there are certain limitations.\n",
        "\n",
        "* They are not always updated with the latest features of the language.\n",
        "\n",
        "* An IDE is not a good option if we want to understand the inner workings of a language (which would make us better developers).\n",
        "\n",
        "* Several IDEs face performance issues.\n",
        "\n",
        "* Integration with other frameworks may be difficult."
      ],
      "metadata": {
        "id": "qXR1kApbDyrZ"
      }
    }
  ]
}